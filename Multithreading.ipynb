{
 "cells": [
  {
   "cell_type": "code",
   "execution_count": null,
   "id": "b7151794",
   "metadata": {},
   "outputs": [],
   "source": [
    "What is multithreading in Python? Why is it used? Name the module used to handle threads in Python.\n",
    "Multithreading in Python refers to the ability of a program to run multiple threads concurrently to perform different tasks. It is used to achieve parallelism and improve the performance of applications by utilizing multiple CPU cores efficiently.\n",
    "\n",
    "The module used to handle threads in Python is the threading module."
   ]
  },
  {
   "cell_type": "raw",
   "id": "31822779",
   "metadata": {},
   "source": [
    "Why is the threading module used? Write the use of the following functions (activeCount, currentThread, enumerate).\n",
    "The threading module is used to create and manage threads in Python. It provides a high-level interface for working with threads.\n",
    "\n",
    "activeCount(): Returns the number of Thread objects currently alive.\n",
    "\n",
    "currentThread(): Returns the current Thread object, corresponding to the caller's thread of control.\n",
    "\n",
    "enumerate(): Returns a list of all Thread objects currently alive."
   ]
  },
  {
   "cell_type": "raw",
   "id": "d00ab718",
   "metadata": {},
   "source": [
    "Explain the following functions (run, start, join, isAlive).\n",
    "run(): The run method is the entry point for a thread. It defines the behavior of the thread when it is started.\n",
    "\n",
    "start(): The start method is used to start a thread's activity. It calls the run method internally.\n",
    "\n",
    "join(): The join method blocks the calling thread until the thread whose join method is called completes its execution.\n",
    "\n",
    "isAlive(): The isAlive method returns True if the thread is alive (i.e., has been started but has not yet completed) and False otherwise."
   ]
  },
  {
   "cell_type": "code",
   "execution_count": 1,
   "id": "0d0f23dc",
   "metadata": {},
   "outputs": [
    {
     "name": "stdout",
     "output_type": "stream",
     "text": [
      "Square of 1 is 1\n",
      "Square of 2 is 4\n",
      "Square of 3 is 9\n",
      "Square of 4 is 16\n",
      "Square of 5 is 25\n",
      "Cube of 1 is 1\n",
      "Cube of 2 is 8\n",
      "Cube of 3 is 27\n",
      "Cube of 4 is 64\n",
      "Cube of 5 is 125\n"
     ]
    }
   ],
   "source": [
    "# Write a Python program to create two threads. Thread one must print the list of squares and thread two must print the list of cubes.\n",
    "\n",
    "import threading\n",
    "\n",
    "def print_squares():\n",
    "    for i in range(1, 6):\n",
    "        print(f\"Square of {i} is {i*i}\")\n",
    "\n",
    "def print_cubes():\n",
    "    for i in range(1, 6):\n",
    "        print(f\"Cube of {i} is {i*i*i}\")\n",
    "\n",
    "t1 = threading.Thread(target=print_squares)\n",
    "t2 = threading.Thread(target=print_cubes)\n",
    "\n",
    "t1.start()\n",
    "t2.start()\n"
   ]
  },
  {
   "cell_type": "raw",
   "id": "4db7d57a",
   "metadata": {},
   "source": [
    "State advantages and disadvantages of multithreading.\n",
    "Advantages:\n",
    "\n",
    "Improved performance by utilizing multiple CPU cores.\n",
    "Responsiveness: Multithreading allows an application to remain responsive to user interactions while performing long-running tasks in the background.\n",
    "Resource sharing: Threads can share the same memory space, allowing them to communicate and share data efficiently.\n",
    "Disadvantages:\n",
    "\n",
    "Complexity: Multithreaded programs can be complex to design and debug, especially when dealing with synchronization and resource management.\n",
    "Synchronization overhead: Managing access to shared resources among threads can introduce overhead and potential issues like deadlocks and race conditions.\n",
    "Difficulty in debugging: Debugging multithreaded applications can be challenging due to the non-deterministic nature of thread execution."
   ]
  },
  {
   "cell_type": "code",
   "execution_count": null,
   "id": "69fd0434",
   "metadata": {},
   "outputs": [],
   "source": []
  }
 ],
 "metadata": {
  "kernelspec": {
   "display_name": "Python 3 (ipykernel)",
   "language": "python",
   "name": "python3"
  },
  "language_info": {
   "codemirror_mode": {
    "name": "ipython",
    "version": 3
   },
   "file_extension": ".py",
   "mimetype": "text/x-python",
   "name": "python",
   "nbconvert_exporter": "python",
   "pygments_lexer": "ipython3",
   "version": "3.9.13"
  },
  "toc": {
   "base_numbering": 1,
   "nav_menu": {},
   "number_sections": true,
   "sideBar": true,
   "skip_h1_title": false,
   "title_cell": "Table of Contents",
   "title_sidebar": "Contents",
   "toc_cell": false,
   "toc_position": {},
   "toc_section_display": true,
   "toc_window_display": false
  }
 },
 "nbformat": 4,
 "nbformat_minor": 5
}
