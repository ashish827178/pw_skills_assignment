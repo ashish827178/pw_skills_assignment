{
 "cells": [
  {
   "cell_type": "markdown",
   "id": "9fdc621c",
   "metadata": {},
   "source": [
    "Q1. Explain Class and Object with respect to Object-Oriented Programming. Give a suitable example.\n",
    "\n",
    "Answer:\n",
    "In object-oriented programming (OOP), a class is a blueprint for creating objects (instances of the class). It defines the structure and behavior that all objects of that class will have. A class can be thought of as a template or a prototype that defines the attributes (data) and methods (functions) that the objects created from it will possess.\n",
    "\n",
    "An object, on the other hand, is an instance of a class. It is a concrete entity that exists in memory and has specific values for its attributes. Objects are created from classes using the class_name() syntax, where class_name is the name of the class."
   ]
  },
  {
   "cell_type": "code",
   "execution_count": 1,
   "id": "aaa144e8",
   "metadata": {},
   "outputs": [
    {
     "name": "stdout",
     "output_type": "stream",
     "text": [
      "My car is a 2022 Toyota Corolla.\n",
      "Car: 2022 Toyota Corolla\n"
     ]
    }
   ],
   "source": [
    "class Car:\n",
    "    def __init__(self, make, model, year):\n",
    "        self.make = make\n",
    "        self.model = model\n",
    "        self.year = year\n",
    "\n",
    "    def display_info(self):\n",
    "        print(f\"Car: {self.year} {self.make} {self.model}\")\n",
    "\n",
    "# Creating an object of the Car class\n",
    "my_car = Car(\"Toyota\", \"Corolla\", 2022)\n",
    "\n",
    "# Accessing attributes and calling methods of the object\n",
    "print(f\"My car is a {my_car.year} {my_car.make} {my_car.model}.\")\n",
    "my_car.display_info()\n"
   ]
  },
  {
   "cell_type": "markdown",
   "id": "3d1079a4",
   "metadata": {},
   "source": [
    "Q2. Name the four pillars of OOPs.\n",
    "\n",
    "Answer:\n",
    "The four pillars of object-oriented programming (OOP) are:\n",
    "\n",
    "Encapsulation: Encapsulation is the bundling of data (attributes) and methods (functions) that operate on the data into a single unit (class). It allows the data to be hidden and can only be accessed and modified through the methods, which provides better control and security.\n",
    "\n",
    "Abstraction: Abstraction is the concept of hiding the complex implementation details and showing only the essential features of an object. It helps in reducing complexity and making the interface simpler for the users.\n",
    "\n",
    "Inheritance: Inheritance is the mechanism where a new class (subclass) derives attributes and methods from an existing class (superclass). It allows for code reusability and the creation of a hierarchy of classes.\n",
    "\n",
    "Polymorphism: Polymorphism means the ability of a single function or method to operate on different types of data. It allows objects of different classes to be treated as objects of a common superclass, which provides flexibility and extensibility in code."
   ]
  },
  {
   "cell_type": "markdown",
   "id": "450fc015",
   "metadata": {},
   "source": [
    "Q3. Explain why the __init__() function is used. Give a suitable example.\n",
    "\n",
    "Answer:\n",
    "The __init__() function is a special method in Python classes that is used for initializing newly created objects. It is called automatically when a new object is created from a class and is used to set initial values for the object's attributes.\n",
    "\n",
    "The __init__() method is particularly useful for ensuring that all instances of a class have certain attributes initialized to specific values, ensuring consistency and avoiding errors due to missing or incorrect attribute values."
   ]
  },
  {
   "cell_type": "code",
   "execution_count": 3,
   "id": "2f62c9e1",
   "metadata": {},
   "outputs": [
    {
     "name": "stdout",
     "output_type": "stream",
     "text": [
      "Name: Alice, Age: 30\n",
      "Name: Bob, Age: 25\n"
     ]
    }
   ],
   "source": [
    "class Person:\n",
    "    def __init__(self, name, age):\n",
    "        self.name = name\n",
    "        self.age = age\n",
    "\n",
    "    def display_info(self):\n",
    "        print(f\"Name: {self.name}, Age: {self.age}\")\n",
    "\n",
    "# Creating objects of the Person class\n",
    "person1 = Person(\"Alice\", 30)\n",
    "person2 = Person(\"Bob\", 25)\n",
    "\n",
    "# Accessing attributes and calling methods of the objects\n",
    "person1.display_info()\n",
    "person2.display_info()\n"
   ]
  },
  {
   "cell_type": "markdown",
   "id": "76c0a7b6",
   "metadata": {},
   "source": [
    "Q4. Why self is used in OOPs?\n",
    "\n",
    "Answer:\n",
    "In object-oriented programming (OOP), self is a reference to the current instance of a class. It is used to access the attributes and methods of the class within its own methods.\n",
    "\n",
    "The use of self is important because it allows different instances of the same class to have their own distinct attributes. Without self, the attributes of one instance could interfere with those of another instance, leading to unexpected behavior.\n",
    "\n",
    "Additionally, self is used to pass the instance as the first argument to the class methods. This allows the methods to operate on the attributes of the specific instance they are called on."
   ]
  },
  {
   "cell_type": "code",
   "execution_count": 4,
   "id": "c8bdec63",
   "metadata": {},
   "outputs": [
    {
     "name": "stdout",
     "output_type": "stream",
     "text": [
      "Person 1 details:\n",
      "Name: Alice, Age: 30\n"
     ]
    }
   ],
   "source": [
    "class Person:\n",
    "    def __init__(self, name, age):\n",
    "        self.name = name\n",
    "        self.age = age\n",
    "\n",
    "    def display_info(self):\n",
    "        print(f\"Name: {self.name}, Age: {self.age}\")\n",
    "\n",
    "# Creating an object of the Person class\n",
    "person1 = Person(\"Alice\", 30)\n",
    "\n",
    "# Accessing attributes and calling methods using the object\n",
    "print(\"Person 1 details:\")\n",
    "person1.display_info()\n"
   ]
  },
  {
   "cell_type": "markdown",
   "id": "e12fa556",
   "metadata": {},
   "source": [
    "Q5. What is inheritance? Give an example for each type of inheritance.\n",
    "\n",
    "Answer:\n",
    "\n",
    "Inheritance is a mechanism in object-oriented programming (OOP) that allows a new class (subclass) to inherit attributes and methods from an existing class (superclass). The subclass can then extend or modify the behavior of the superclass without changing the superclass itself. This promotes code reuse and helps in creating a hierarchy of classes.\n",
    "\n",
    "There are different types of inheritance:\n",
    "\n",
    "Single Inheritance: In single inheritance, a subclass inherits from only one superclass.\n",
    "\n",
    "Multiple Inheritance: In multiple inheritance, a subclass inherits from more than one superclass. This allows the subclass to inherit attributes and methods from multiple classes.\n",
    "\n",
    "Multilevel Inheritance: In multilevel inheritance, a subclass inherits from a superclass, and another subclass inherits from this subclass. This creates a hierarchy of classes.\n",
    "\n",
    "Hierarchical Inheritance: In hierarchical inheritance, multiple subclasses inherit from a single superclass. Each subclass can have its own additional attributes and methods."
   ]
  },
  {
   "cell_type": "code",
   "execution_count": 5,
   "id": "879a953a",
   "metadata": {},
   "outputs": [
    {
     "name": "stdout",
     "output_type": "stream",
     "text": [
      "Animal speaks\n",
      "Dog barks\n"
     ]
    }
   ],
   "source": [
    "# Examples\n",
    "\n",
    "# Single Inheritance\n",
    "\n",
    "class Animal:\n",
    "    def speak(self):\n",
    "        print(\"Animal speaks\")\n",
    "\n",
    "class Dog(Animal):\n",
    "    def bark(self):\n",
    "        print(\"Dog barks\")\n",
    "\n",
    "my_dog = Dog()\n",
    "my_dog.speak()  # Output: Animal speaks\n",
    "my_dog.bark()   # Output: Dog barks\n",
    "\n",
    "# Multiple Inheritance\n"
   ]
  },
  {
   "cell_type": "code",
   "execution_count": null,
   "id": "3595df81",
   "metadata": {},
   "outputs": [],
   "source": []
  },
  {
   "cell_type": "code",
   "execution_count": null,
   "id": "719926cc",
   "metadata": {},
   "outputs": [],
   "source": []
  },
  {
   "cell_type": "code",
   "execution_count": null,
   "id": "a0b39a81",
   "metadata": {},
   "outputs": [],
   "source": []
  },
  {
   "cell_type": "code",
   "execution_count": null,
   "id": "6fc46780",
   "metadata": {},
   "outputs": [],
   "source": []
  },
  {
   "cell_type": "code",
   "execution_count": null,
   "id": "c871885e",
   "metadata": {},
   "outputs": [],
   "source": []
  }
 ],
 "metadata": {
  "kernelspec": {
   "display_name": "Python 3 (ipykernel)",
   "language": "python",
   "name": "python3"
  },
  "language_info": {
   "codemirror_mode": {
    "name": "ipython",
    "version": 3
   },
   "file_extension": ".py",
   "mimetype": "text/x-python",
   "name": "python",
   "nbconvert_exporter": "python",
   "pygments_lexer": "ipython3",
   "version": "3.9.13"
  },
  "toc": {
   "base_numbering": 1,
   "nav_menu": {},
   "number_sections": true,
   "sideBar": true,
   "skip_h1_title": false,
   "title_cell": "Table of Contents",
   "title_sidebar": "Contents",
   "toc_cell": false,
   "toc_position": {},
   "toc_section_display": true,
   "toc_window_display": false
  }
 },
 "nbformat": 4,
 "nbformat_minor": 5
}
