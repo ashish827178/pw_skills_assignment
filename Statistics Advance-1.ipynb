{
 "cells": [
  {
   "cell_type": "raw",
   "id": "835670b1",
   "metadata": {},
   "source": [
    "Q1. What is the Probability density function?\n",
    "The Probability Density Function (PDF) is a concept in probability and statistics that describes the likelihood of a continuous random variable taking on a specific value. It provides information about the distribution of the random variable across its range of possible values."
   ]
  },
  {
   "cell_type": "raw",
   "id": "4b50208e",
   "metadata": {},
   "source": [
    "Q2. What are the types of Probability distribution?\n",
    "There are several types of probability distributions used in statistics and probability theory to describe the behavior of random variables. Each type of distribution has its own characteristics and applications. Here are some of the most common types of probability distributions:\n",
    "\n",
    "Normal ditribution (Guassian Distribution)\n",
    "Binomial distribution\n",
    "Bernoulli distribution\n",
    "Poisson distribution\n",
    "Exponential distribution\n",
    "Uniform distribution\n",
    "Gamma distribution\n",
    "Log normal distribution"
   ]
  },
  {
   "cell_type": "code",
   "execution_count": 3,
   "id": "5a264d26",
   "metadata": {},
   "outputs": [
    {
     "name": "stdout",
     "output_type": "stream",
     "text": [
      "PDF at x = 1.5: 0.12951759566589174\n"
     ]
    }
   ],
   "source": [
    "# Q3. Write a Python function to calculate the probability density function of a normal distribution with\n",
    "# given mean and standard deviation at a given point.\n",
    "\n",
    "import math\n",
    "\n",
    "def normal_pdf(x, mean, std):\n",
    "    exponetial = -(((x-mean)/std)**2)/2\n",
    "    pdf = 1/(std*math.sqrt(2*math.pi)) * math.exp(exponetial)\n",
    "    return pdf\n",
    "\n",
    "mean = 0\n",
    "std_dev = 1\n",
    "x_value = 1.5\n",
    "\n",
    "pdf_value = normal_pdf(x_value, mean, std_dev)\n",
    "print(f\"PDF at x = {x_value}: {pdf_value}\")"
   ]
  },
  {
   "cell_type": "raw",
   "id": "a5ec1bce",
   "metadata": {},
   "source": [
    "Q4. What are the properties of Binomial distribution? Give two examples of events where binomial distribution can be applied.\n",
    "\n",
    "The Binomial Distribution is a discrete probability distribution that describes the number of successes in a fixed number of independent Bernoulli trials, where each trial has two possible outcomes: success (usually denoted as \"1\") or failure (usually denoted as \"0\"). The Binomial Distribution is characterized by the following properties:\n",
    "\n",
    "Fixed Number of Trials (n): The distribution is based on a fixed number of trials or experiments, denoted as \"n.\"\n",
    "\n",
    "Independent Trials: Each trial is independent of the others, meaning that the outcome of one trial does not influence the outcome of another.\n",
    "\n",
    "Two Possible Outcomes: Each trial has two possible outcomes: success (\"1\") or failure (\"0\").\n",
    "\n",
    "Constant Probability: The probability of success remains the same for each trial and is denoted as \"p.\"\n",
    "\n",
    "Discrete: The Binomial Distribution is discrete, meaning that it deals with whole numbers (counts of successes).\n",
    "\n",
    "Probability Mass Function (PMF): The probability of obtaining a specific number of successes k in n trials is given by the PMF formula:\n",
    "\n",
    "P(X = k) = (n choose k) * p^k * (1 - p)^(n - k)\n",
    "\n",
    "where \"n choose k\" is the binomial coefficient.\n",
    "\n",
    "Examples of events where the Binomial Distribution can be applied:\n",
    "\n",
    "Coin Flips: Consider flipping a fair coin multiple times. Each flip is a Bernoulli trial with a probability of success (getting heads) of 0.5. The number of times heads comes up in a fixed number of coin flips follows a Binomial Distribution.\n",
    "\n",
    "Quality Control: In a manufacturing process, products are tested for defects. Each product either passes (success) or fails (failure). The number of defective products in a batch of a fixed number of products can be modeled using a Binomial Distribution."
   ]
  },
  {
   "cell_type": "code",
   "execution_count": 6,
   "id": "61425bf2",
   "metadata": {},
   "outputs": [
    {
     "data": {
      "image/png": "[encoded data removed]",
      "text/plain": [
       "<Figure size 640x480 with 1 Axes>"
      ]
     },
     "metadata": {},
     "output_type": "display_data"
    }
   ],
   "source": [
    "# Q5. Generate a random sample of size 1000 from a binomial distribution with probability of success 0.4\n",
    "# and plot a histogram of the results using matplotlib.\n",
    "\n",
    "import numpy as np\n",
    "import matplotlib.pyplot as plt\n",
    "\n",
    "# Parameters\n",
    "sample_size = 1000\n",
    "probability_of_success = 0.5\n",
    "number_of_trials = 1  # Number of trials in each experiment\n",
    "\n",
    "# Generate random sample from binomial distribution\n",
    "random_sample = np.random.binomial(number_of_trials, probability_of_success, size=sample_size)\n",
    "\n",
    "# Plot histogram\n",
    "plt.hist(random_sample, bins=np.arange(-0.5, 2), align=\"mid\", rwidth=0.8, alpha=0.7)\n",
    "plt.xlabel(\"Number of Successes\")\n",
    "plt.ylabel(\"Frequency\")\n",
    "plt.title(f\"Histogram of Binomial Distribution (n=1, p={probability_of_success})\")\n",
    "plt.xticks([0, 1], [\"Failure\", \"Success\"])\n",
    "plt.grid(axis=\"y\", alpha=0.5)\n",
    "plt.show()\n"
   ]
  },
  {
   "cell_type": "code",
   "execution_count": 10,
   "id": "9cb78d0e",
   "metadata": {},
   "outputs": [
    {
     "name": "stdout",
     "output_type": "stream",
     "text": [
      "3.452567504618415\n"
     ]
    }
   ],
   "source": [
    "# Q6. Write a Python function to calculate the cumulative distribution function of a Poisson distribution\n",
    "# with given mean at a given point.\n",
    "\n",
    "import math\n",
    "\n",
    "def cdf_poisson(x, mean):\n",
    "    cdf = 0\n",
    "    for k in range(math.floor(x)+1):\n",
    "        cdf += (math.exp(-mean) * mean**x)/math.factorial(k)\n",
    "    return cdf\n",
    "\n",
    "mean = 3.5\n",
    "x_value = 3\n",
    "print(cdf_poisson(x_value, mean))"
   ]
  },
  {
   "cell_type": "raw",
   "id": "ec7a7594",
   "metadata": {},
   "source": [
    "Q7. How Binomial distribution different from Poisson distribution?\n",
    "\n",
    "The Binomial and Poisson distributions are both probability distributions used to model the number of occurrences of an event. However, they have different characteristics and are used in different situations:\n",
    "\n",
    "Binomial Distribution:\n",
    "\n",
    "Number of Trials: The Binomial distribution is used when there is a fixed number of independent trials or experiments, denoted as \"n.\"\n",
    "\n",
    "Two Outcomes: Each trial has two possible outcomes: success (usually denoted as \"1\") or failure (usually denoted as \"0\").\n",
    "\n",
    "Constant Probability: The probability of success remains the same for each trial and is denoted as \"p.\"\n",
    "\n",
    "Discrete: The Binomial distribution deals with whole numbers, specifically the number of successes in \"n\" trials.\n",
    "\n",
    "Parameters: It's characterized by two parameters: \"n\" (number of trials) and \"p\" (probability of success).\n",
    "\n",
    "Poisson Distribution:\n",
    "\n",
    "Number of Trials: The Poisson distribution is used when the number of trials is not fixed but represents the rate at which events occur within a certain \n",
    "interval of time or space.\n",
    "\n",
    "Count of Events: It models the count of events occurring in a fixed interval, where events are rare and independent.\n",
    "\n",
    "Rate Parameter: The Poisson distribution is characterized by a rate parameter, often denoted as \"λ\" (lambda), representing the average number of events in the interval.\n",
    "\n",
    "Discrete: Like the Binomial distribution, the Poisson distribution is also discrete and deals with whole numbers.\n",
    "\n",
    "Limit: The Poisson distribution can be thought of as a limiting case of the Binomial distribution when the number of trials becomes large and the probability of success becomes small, while keeping the product \"n * p\" constant."
   ]
  },
  {
   "cell_type": "code",
   "execution_count": 11,
   "id": "84cd7528",
   "metadata": {},
   "outputs": [
    {
     "name": "stdout",
     "output_type": "stream",
     "text": [
      "Sample mean : 5.002\n",
      "sample Variance : 5.345996\n"
     ]
    }
   ],
   "source": [
    "# Q8. Generate a random sample of size 1000 from a Poisson distribution with mean 5 and calculate the\n",
    "# sample mean and variance.\n",
    "\n",
    "import numpy as np\n",
    "\n",
    "sample_size = 1000\n",
    "mean = 5\n",
    "\n",
    "random_sample = np.random.poisson(mean, sample_size)\n",
    "\n",
    "sample_mean = np.mean(random_sample)\n",
    "sample_var = np.var(random_sample)\n",
    "\n",
    "print(f\"Sample mean : {sample_mean}\")\n",
    "print(f\"sample Variance : {sample_var}\")"
   ]
  },
  {
   "cell_type": "raw",
   "id": "f4e2539b",
   "metadata": {},
   "source": [
    "Q9. How mean and variance are related in Binomial distribution and Poisson distribution?\n",
    "\n",
    "In both the Binomial and Poisson distributions, the relationship between the mean and the variance is influenced by the characteristics of the distribution.\n",
    "\n",
    "Binomial Distribution:\n",
    "In the Binomial distribution, if X is the random variable representing the number of successes in \"n\" independent trials, and \"p\" is the probability of success in each trial, then the mean (μ) and variance (σ^2) are related as follows:\n",
    "\n",
    "Mean (μ) = n * p\n",
    "Variance (σ^2) = n * p * (1 - p)\n",
    "\n",
    "Here, \"n\" is the number of trials and \"p\" is the probability of success in each trial\n",
    "\n",
    "\n",
    "Poisson Distribution:\n",
    "In the Poisson distribution, if X is the random variable representing the count of events occurring in a fixed interval, and \"λ\" (lambda) is the average rate of events, then the mean (μ) and variance (σ^2) are related as follows:\n",
    "\n",
    "Mean (μ) = λ\n",
    "Variance (σ^2) = λ\n",
    "\n",
    "In the Poisson distribution, the mean and variance are equal and are both determined by the rate parameter \"λ.\"\n"
   ]
  },
  {
   "cell_type": "raw",
   "id": "2b69d5de",
   "metadata": {},
   "source": [
    "Q10. In normal distribution with respect to mean position, where does the least frequent data appear?\n",
    "\n",
    "In a normal distribution (also known as a Gaussian distribution), the least frequent data points appear in the tails of the distribution, far away from the mean. "
   ]
  },
  {
   "cell_type": "code",
   "execution_count": null,
   "id": "c54a7273",
   "metadata": {},
   "outputs": [],
   "source": []
  }
 ],
 "metadata": {
  "kernelspec": {
   "display_name": "Python 3 (ipykernel)",
   "language": "python",
   "name": "python3"
  },
  "language_info": {
   "codemirror_mode": {
    "name": "ipython",
    "version": 3
   },
   "file_extension": ".py",
   "mimetype": "text/x-python",
   "name": "python",
   "nbconvert_exporter": "python",
   "pygments_lexer": "ipython3",
   "version": "3.9.13"
  },
  "toc": {
   "base_numbering": 1,
   "nav_menu": {},
   "number_sections": true,
   "sideBar": true,
   "skip_h1_title": false,
   "title_cell": "Table of Contents",
   "title_sidebar": "Contents",
   "toc_cell": false,
   "toc_position": {},
   "toc_section_display": true,
   "toc_window_display": false
  }
 },
 "nbformat": 4,
 "nbformat_minor": 5
}
