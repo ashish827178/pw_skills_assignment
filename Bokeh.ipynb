{
 "cells": [
  {
   "cell_type": "code",
   "execution_count": 1,
   "id": "67cd595e",
   "metadata": {},
   "outputs": [],
   "source": [
    "\n",
    "# Q1. How can you create a Bokeh plot using Python code?\n",
    "\n",
    "# To create a Bokeh plot, you first need to import the necessary modules from the Bokeh library. Then, you can create a figure \n",
    "# object and add glyphs (visual markers like circles, lines, etc.) to the figure. Finally, you can show the plot using the show() \n",
    "# function.\n",
    "\n",
    "# Example:\n",
    "\n",
    "\n",
    "from bokeh.plotting import figure, show\n",
    "from bokeh.io import output_notebook\n",
    "\n",
    "# Create a figure object\n",
    "p = figure(title='Example Bokeh Plot', x_axis_label='x', y_axis_label='y')\n",
    "\n",
    "# Add a circle glyph\n",
    "p.circle([1, 2, 3, 4, 5], [6, 7, 2, 4, 5], size=10, color='navy', alpha=0.5)\n",
    "\n",
    "# Show the plot\n",
    "show(p)"
   ]
  },
  {
   "cell_type": "code",
   "execution_count": 2,
   "id": "11ac1b02",
   "metadata": {},
   "outputs": [
    {
     "data": {
      "text/html": [
       "<div style=\"display: table;\"><div style=\"display: table-row;\"><div style=\"display: table-cell;\"><b title=\"bokeh.models.renderers.GlyphRenderer\">GlyphRenderer</b>(</div><div style=\"display: table-cell;\">id&nbsp;=&nbsp;'1194', <span id=\"1211\" style=\"cursor: pointer;\">&hellip;)</span></div></div><div class=\"1210\" style=\"display: none;\"><div style=\"display: table-cell;\"></div><div style=\"display: table-cell;\">coordinates&nbsp;=&nbsp;None,</div></div><div class=\"1210\" style=\"display: none;\"><div style=\"display: table-cell;\"></div><div style=\"display: table-cell;\">data_source&nbsp;=&nbsp;ColumnDataSource(id='1190', ...),</div></div><div class=\"1210\" style=\"display: none;\"><div style=\"display: table-cell;\"></div><div style=\"display: table-cell;\">glyph&nbsp;=&nbsp;Scatter(id='1191', ...),</div></div><div class=\"1210\" style=\"display: none;\"><div style=\"display: table-cell;\"></div><div style=\"display: table-cell;\">group&nbsp;=&nbsp;None,</div></div><div class=\"1210\" style=\"display: none;\"><div style=\"display: table-cell;\"></div><div style=\"display: table-cell;\">hover_glyph&nbsp;=&nbsp;None,</div></div><div class=\"1210\" style=\"display: none;\"><div style=\"display: table-cell;\"></div><div style=\"display: table-cell;\">js_event_callbacks&nbsp;=&nbsp;{},</div></div><div class=\"1210\" style=\"display: none;\"><div style=\"display: table-cell;\"></div><div style=\"display: table-cell;\">js_property_callbacks&nbsp;=&nbsp;{},</div></div><div class=\"1210\" style=\"display: none;\"><div style=\"display: table-cell;\"></div><div style=\"display: table-cell;\">level&nbsp;=&nbsp;'glyph',</div></div><div class=\"1210\" style=\"display: none;\"><div style=\"display: table-cell;\"></div><div style=\"display: table-cell;\">muted&nbsp;=&nbsp;False,</div></div><div class=\"1210\" style=\"display: none;\"><div style=\"display: table-cell;\"></div><div style=\"display: table-cell;\">muted_glyph&nbsp;=&nbsp;Scatter(id='1193', ...),</div></div><div class=\"1210\" style=\"display: none;\"><div style=\"display: table-cell;\"></div><div style=\"display: table-cell;\">name&nbsp;=&nbsp;None,</div></div><div class=\"1210\" style=\"display: none;\"><div style=\"display: table-cell;\"></div><div style=\"display: table-cell;\">nonselection_glyph&nbsp;=&nbsp;Scatter(id='1192', ...),</div></div><div class=\"1210\" style=\"display: none;\"><div style=\"display: table-cell;\"></div><div style=\"display: table-cell;\">selection_glyph&nbsp;=&nbsp;'auto',</div></div><div class=\"1210\" style=\"display: none;\"><div style=\"display: table-cell;\"></div><div style=\"display: table-cell;\">subscribed_events&nbsp;=&nbsp;[],</div></div><div class=\"1210\" style=\"display: none;\"><div style=\"display: table-cell;\"></div><div style=\"display: table-cell;\">syncable&nbsp;=&nbsp;True,</div></div><div class=\"1210\" style=\"display: none;\"><div style=\"display: table-cell;\"></div><div style=\"display: table-cell;\">tags&nbsp;=&nbsp;[],</div></div><div class=\"1210\" style=\"display: none;\"><div style=\"display: table-cell;\"></div><div style=\"display: table-cell;\">view&nbsp;=&nbsp;CDSView(id='1195', ...),</div></div><div class=\"1210\" style=\"display: none;\"><div style=\"display: table-cell;\"></div><div style=\"display: table-cell;\">visible&nbsp;=&nbsp;True,</div></div><div class=\"1210\" style=\"display: none;\"><div style=\"display: table-cell;\"></div><div style=\"display: table-cell;\">x_range_name&nbsp;=&nbsp;'default',</div></div><div class=\"1210\" style=\"display: none;\"><div style=\"display: table-cell;\"></div><div style=\"display: table-cell;\">y_range_name&nbsp;=&nbsp;'default')</div></div></div>\n",
       "<script>\n",
       "(function() {\n",
       "  let expanded = false;\n",
       "  const ellipsis = document.getElementById(\"1211\");\n",
       "  ellipsis.addEventListener(\"click\", function() {\n",
       "    const rows = document.getElementsByClassName(\"1210\");\n",
       "    for (let i = 0; i < rows.length; i++) {\n",
       "      const el = rows[i];\n",
       "      el.style.display = expanded ? \"none\" : \"table-row\";\n",
       "    }\n",
       "    ellipsis.innerHTML = expanded ? \"&hellip;)\" : \"&lsaquo;&lsaquo;&lsaquo;\";\n",
       "    expanded = !expanded;\n",
       "  });\n",
       "})();\n",
       "</script>\n"
      ],
      "text/plain": [
       "GlyphRenderer(id='1194', ...)"
      ]
     },
     "execution_count": 2,
     "metadata": {},
     "output_type": "execute_result"
    }
   ],
   "source": [
    "# Q2. What are glyphs in Bokeh, and how can you add them to a Bokeh plot? Explain with an example.\n",
    "\n",
    "# Glyphs are visual markers that represent data points in a Bokeh plot. They can be used to display data in various ways, \n",
    "# such as circles, lines, squares, etc. You can add glyphs to a Bokeh plot by using the appropriate glyph function \n",
    "# (e.g., circle() for circles, line() for lines, etc.) and specifying the data and visual properties of the glyphs.\n",
    "\n",
    "# Example:\n",
    "\n",
    "\n",
    "# Add a line glyph\n",
    "p.line([1, 2, 3, 4, 5], [6, 7, 2, 4, 5], line_width=2, color='green')\n",
    "\n",
    "# Add a square glyph\n",
    "p.square([1, 2, 3, 4, 5], [6, 7, 2, 4, 5], size=12, color='red', alpha=0.5)"
   ]
  },
  {
   "cell_type": "code",
   "execution_count": 4,
   "id": "c15106c5",
   "metadata": {},
   "outputs": [
    {
     "name": "stderr",
     "output_type": "stream",
     "text": [
      "C:\\Users\\91914\\anaconda3\\lib\\site-packages\\bokeh\\models\\plots.py:815: UserWarning: \n",
      "You are attempting to set `plot.legend.title` on a plot that has zero legends added, this will have no effect.\n",
      "\n",
      "Before legend properties can be set, you must add a Legend explicitly, or call a glyph method with a legend parameter set.\n",
      "\n",
      "  warnings.warn(_LEGEND_EMPTY_WARNING % attr)\n",
      "C:\\Users\\91914\\anaconda3\\lib\\site-packages\\bokeh\\models\\plots.py:815: UserWarning: \n",
      "You are attempting to set `plot.legend.location` on a plot that has zero legends added, this will have no effect.\n",
      "\n",
      "Before legend properties can be set, you must add a Legend explicitly, or call a glyph method with a legend parameter set.\n",
      "\n",
      "  warnings.warn(_LEGEND_EMPTY_WARNING % attr)\n"
     ]
    }
   ],
   "source": [
    "# Q3. How can you customize the appearance of a Bokeh plot, including the axes, title, and legend?\n",
    "\n",
    "# You can customize the appearance of a Bokeh plot by accessing the different properties of the figure object (p in this case) \n",
    "# and setting them to the desired values. For example, you can set the title, axis labels, axis ticks, and legend properties.\n",
    "\n",
    "# Example:\n",
    "\n",
    "# Set the title\n",
    "p.title.text = 'Custom Title'\n",
    "\n",
    "# Set the x-axis label\n",
    "p.xaxis.axis_label = 'Custom X-axis Label'\n",
    "\n",
    "# Set the y-axis label\n",
    "p.yaxis.axis_label = 'Custom Y-axis Label'\n",
    "\n",
    "# Add a legend\n",
    "p.legend.title = 'Legend Title'\n",
    "p.legend.location = 'top_left'"
   ]
  },
  {
   "cell_type": "code",
   "execution_count": 6,
   "id": "2ba05feb",
   "metadata": {},
   "outputs": [],
   "source": [
    "# Q4. What is a Bokeh server, and how can you use it to create interactive plots that can be updated in real time?\n",
    "\n",
    "# A Bokeh server is a Python server application that allows you to create and serve Bokeh plots that can be updated in real time. \n",
    "# You can use the Bokeh server to add interactivity to your plots, such as updating data, changing plot properties, \n",
    "# and responding to user inputs.\n",
    "\n",
    "# Example:\n",
    "\n",
    "\n",
    "from bokeh.plotting import curdoc, figure\n",
    "from bokeh.layouts import column\n",
    "from bokeh.models import Slider\n",
    "\n",
    "# Create a new figure object\n",
    "p = figure(title='Example Bokeh Plot', x_axis_label='x', y_axis_label='y')\n",
    "\n",
    "# Create a new slider widget\n",
    "slider = Slider(start=0, end=10, value=5, step=1, title='Slider')\n",
    "\n",
    "# Clear the existing document\n",
    "curdoc().clear()\n",
    "\n",
    "# Add the new plot and slider to the document\n",
    "layout = column(slider, p)\n",
    "curdoc().add_root(layout)\n"
   ]
  },
  {
   "cell_type": "code",
   "execution_count": null,
   "id": "6c99473b",
   "metadata": {},
   "outputs": [],
   "source": [
    "# Q5. How can you embed a Bokeh plot into a web page or dashboard using Flask or Django?\n",
    "\n",
    "# To embed a Bokeh plot into a web page or dashboard using Flask or Django, you first need to create the Bokeh plot as described \n",
    "# earlier. Then, you can embed the plot into a template file (HTML file) using the components() function from the bokeh.embed \n",
    "# module. Finally, you can render the template file in your Flask or Django application.\n",
    "\n",
    "# Example (Flask):\n",
    "\n",
    "\n",
    "from flask import Flask, render_template\n",
    "from bokeh.plotting import figure\n",
    "from bokeh.embed import components\n",
    "\n",
    "app = Flask(__name__)\n",
    "\n",
    "@app.route('/')\n",
    "def index():\n",
    "    # Create a Bokeh plot\n",
    "    p = figure(title='Embedded Bokeh Plot', x_axis_label='x', y_axis_label='y')\n",
    "    p.circle([1, 2, 3, 4, 5], [6, 7, 2, 4, 5], size=10, color='navy', alpha=0.5)\n",
    "\n",
    "    # Embed the plot into the template\n",
    "    script, div = components(p)\n",
    "    return render_template('index.html', script=script, div=div)\n",
    "\n",
    "if __name__ == '__main__':\n",
    "    app.run(debug=True)\n",
    "In the index.html template file, you can use the script and div variables to embed the Bokeh plot:\n",
    "\n",
    "\n",
    "<!DOCTYPE html>\n",
    "<html lang=\"en\">\n",
    "<head>\n",
    "    <meta charset=\"UTF-8\">\n",
    "    <title>Embedded Bokeh Plot</title>\n",
    "    {{ script }}\n",
    "</head>\n",
    "<body>\n",
    "    <h1>Embedded Bokeh Plot</h1>\n",
    "    {{ div }}\n",
    "</body>\n",
    "</html>"
   ]
  }
 ],
 "metadata": {
  "kernelspec": {
   "display_name": "Python 3 (ipykernel)",
   "language": "python",
   "name": "python3"
  },
  "language_info": {
   "codemirror_mode": {
    "name": "ipython",
    "version": 3
   },
   "file_extension": ".py",
   "mimetype": "text/x-python",
   "name": "python",
   "nbconvert_exporter": "python",
   "pygments_lexer": "ipython3",
   "version": "3.9.13"
  },
  "toc": {
   "base_numbering": 1,
   "nav_menu": {},
   "number_sections": true,
   "sideBar": true,
   "skip_h1_title": false,
   "title_cell": "Table of Contents",
   "title_sidebar": "Contents",
   "toc_cell": false,
   "toc_position": {},
   "toc_section_display": true,
   "toc_window_display": false
  }
 },
 "nbformat": 4,
 "nbformat_minor": 5
}
