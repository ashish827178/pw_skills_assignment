{
 "cells": [
  {
   "cell_type": "raw",
   "id": "dc26af5d",
   "metadata": {},
   "source": [
    "Q1. What is Lasso Regression, and how does it differ from other regression techniques?\n",
    "\n",
    "Answer:\n",
    "Lasso Regression, or Least Absolute Shrinkage and Selection Operator, is a linear regression technique that adds a penalty term to the regression equation, specifically the sum of the absolute values of the coefficients multiplied by a tuning parameter (lambda or alpha). This penalty term encourages sparsity in the coefficients, effectively performing feature selection by setting some coefficients to zero. The main difference between Lasso Regression and other regression techniques like Ridge Regression is the type of penalty used. Ridge Regression uses the sum of squared coefficients, while Lasso Regression uses the sum of the absolute values of the coefficients."
   ]
  },
  {
   "cell_type": "raw",
   "id": "efcb319d",
   "metadata": {},
   "source": [
    "Q2. What is the main advantage of using Lasso Regression in feature selection?\n",
    "\n",
    "Answer:\n",
    "Lasso Regression automatically performs feature selection by setting the coefficients of less important features to zero. This can lead to a simpler and more interpretable model, especially in high-dimensional datasets with many features.\n"
   ]
  },
  {
   "cell_type": "raw",
   "id": "a69406b0",
   "metadata": {},
   "source": [
    "Q3. How do you interpret the coefficients of a Lasso Regression model?\n",
    "\n",
    "Answer:\n",
    "The coefficients in Lasso Regression can be interpreted similarly to those in linear regression. A positive coefficient indicates a positive relationship with the dependent variable, while a negative coefficient indicates a negative relationship. However, since Lasso Regression can set coefficients to zero, a zero coefficient means that the corresponding feature has been excluded from the model.\n"
   ]
  },
  {
   "cell_type": "raw",
   "id": "9b1af4bc",
   "metadata": {},
   "source": [
    "Q4. What are the tuning parameters that can be adjusted in Lasso Regression, and how do they affect the\n",
    "model's performance?\n",
    "\n",
    "Answer:\n",
    "The main tuning parameter in Lasso Regression is lambda (or alpha), which controls the strength of the penalty applied to the coefficients. A higher value of lambda results in more coefficients being set to zero, leading to a simpler model with potentially higher bias but lower variance. Another parameter that can be adjusted is the maximum number of iterations for the optimization algorithm."
   ]
  },
  {
   "cell_type": "raw",
   "id": "69b63827",
   "metadata": {},
   "source": [
    "Q5. Can Lasso Regression be used for non-linear regression problems? If yes, how?\n",
    "\n",
    "Answer:\n",
    "Lasso Regression is inherently a linear regression technique and is not designed to handle non-linear relationships between the independent and dependent variables. However, it can be used in conjunction with non-linear transformations of the independent variables to approximate non-linear relationships."
   ]
  },
  {
   "cell_type": "raw",
   "id": "b468629c",
   "metadata": {},
   "source": [
    "Q6. What is the difference between Ridge Regression and Lasso Regression?\n",
    "\n",
    "Answer:\n",
    "The main difference between Ridge Regression and Lasso Regression is the penalty term used. Ridge Regression uses the sum of squared coefficients, which tends to shrink all coefficients towards zero but rarely sets them exactly to zero. In contrast, Lasso Regression uses the sum of the absolute values of the coefficients, which can lead to some coefficients being exactly zero, effectively performing feature selection."
   ]
  },
  {
   "cell_type": "raw",
   "id": "fe9026e2",
   "metadata": {},
   "source": [
    "Q7. Can Lasso Regression handle multicollinearity in the input features? If yes, how?\n",
    "\n",
    "Answer:\n",
    "Lasso Regression can handle multicollinearity by setting correlated coefficients to zero, effectively selecting one of the correlated variables and ignoring the others. This can help in reducing the impact of multicollinearity on the model."
   ]
  },
  {
   "cell_type": "raw",
   "id": "27210986",
   "metadata": {},
   "source": [
    "Q8. How do you choose the optimal value of the regularization parameter (lambda) in Lasso Regression?\n",
    "\n",
    "Answer:\n",
    "The optimal value of lambda in Lasso Regression can be chosen using techniques such as cross-validation, where different values of lambda are tried, and the one that gives the best model performance is selected. Another approach is to use information criteria such as AIC or BIC to select the optimal lambda."
   ]
  },
  {
   "cell_type": "raw",
   "id": "a44b3f97",
   "metadata": {},
   "source": []
  },
  {
   "cell_type": "raw",
   "id": "9f76e656",
   "metadata": {},
   "source": []
  },
  {
   "cell_type": "raw",
   "id": "001aa060",
   "metadata": {},
   "source": []
  },
  {
   "cell_type": "raw",
   "id": "b73d6772",
   "metadata": {},
   "source": []
  },
  {
   "cell_type": "raw",
   "id": "f26ec4f2",
   "metadata": {},
   "source": []
  },
  {
   "cell_type": "raw",
   "id": "3bcbc29f",
   "metadata": {},
   "source": []
  },
  {
   "cell_type": "raw",
   "id": "a60aca1a",
   "metadata": {},
   "source": []
  },
  {
   "cell_type": "raw",
   "id": "a64d0b1e",
   "metadata": {},
   "source": []
  },
  {
   "cell_type": "raw",
   "id": "8e9450a2",
   "metadata": {},
   "source": []
  },
  {
   "cell_type": "raw",
   "id": "a589637e",
   "metadata": {},
   "source": []
  },
  {
   "cell_type": "raw",
   "id": "03007e22",
   "metadata": {},
   "source": []
  },
  {
   "cell_type": "raw",
   "id": "23851fdf",
   "metadata": {},
   "source": []
  },
  {
   "cell_type": "raw",
   "id": "e8616e9d",
   "metadata": {},
   "source": []
  },
  {
   "cell_type": "raw",
   "id": "265a5308",
   "metadata": {},
   "source": []
  },
  {
   "cell_type": "raw",
   "id": "f38cf24e",
   "metadata": {},
   "source": []
  }
 ],
 "metadata": {
  "kernelspec": {
   "display_name": "Python 3 (ipykernel)",
   "language": "python",
   "name": "python3"
  },
  "language_info": {
   "codemirror_mode": {
    "name": "ipython",
    "version": 3
   },
   "file_extension": ".py",
   "mimetype": "text/x-python",
   "name": "python",
   "nbconvert_exporter": "python",
   "pygments_lexer": "ipython3",
   "version": "3.9.13"
  },
  "toc": {
   "base_numbering": 1,
   "nav_menu": {},
   "number_sections": true,
   "sideBar": true,
   "skip_h1_title": false,
   "title_cell": "Table of Contents",
   "title_sidebar": "Contents",
   "toc_cell": false,
   "toc_position": {},
   "toc_section_display": true,
   "toc_window_display": false
  }
 },
 "nbformat": 4,
 "nbformat_minor": 5
}
