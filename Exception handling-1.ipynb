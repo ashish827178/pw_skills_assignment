{
 "cells": [
  {
   "cell_type": "code",
   "execution_count": null,
   "id": "5ae61992",
   "metadata": {},
   "outputs": [],
   "source": [
    "Q1. What is an Exception in python? Write the difference between Exceptions and syntax errors."
   ]
  },
  {
   "cell_type": "raw",
   "id": "2ab7d8dd",
   "metadata": {},
   "source": [
    "Answer:\n",
    "    In Python, an exception is an error that occurs during the execution of a program. When an exception occurs, the program stops executing and raises an exception object. This object contains information about the error, such as the type of error and where it occurred in the code.\n",
    "\n",
    "Exceptions are different from syntax errors in the following ways:\n",
    "\n",
    "1. **Syntax Errors:** Syntax errors occur when the code is not written according to the syntax rules of Python. These errors are detected by the Python interpreter during the parsing of the code and prevent the program from running.\n",
    "\n",
    "2. **Exceptions:** Exceptions occur during the execution of the program, when something unexpected happens that disrupts the normal flow of the program. Exceptions can be caused by various reasons, such as invalid input, file not found, or division by zero. Unlike syntax errors, exceptions are not detected by the Python interpreter until the code is executed."
   ]
  },
  {
   "cell_type": "raw",
   "id": "327def43",
   "metadata": {},
   "source": [
    "Q2. What happens when an exception is not handled? Explain with an example"
   ]
  },
  {
   "cell_type": "raw",
   "id": "8952e4fe",
   "metadata": {},
   "source": [
    "Answer:\n",
    "    When an exception is not handled, it propagates up the call stack until it is caught by an exception handler or until it reaches the top-level of the program. If the exception is not caught, the program will terminate abruptly, and a traceback will be displayed, showing the exception type, message, and the line of code where the exception occurred."
   ]
  },
  {
   "cell_type": "code",
   "execution_count": 1,
   "id": "cc54fbcb",
   "metadata": {},
   "outputs": [
    {
     "name": "stdout",
     "output_type": "stream",
     "text": [
      "Exception caught: division by zero\n"
     ]
    }
   ],
   "source": [
    "def divide(a, b):\n",
    "    return a / b\n",
    "\n",
    "try:\n",
    "    result = divide(10, 0)\n",
    "    print(\"Result:\", result)\n",
    "except ZeroDivisionError as e:\n",
    "    print(\"Exception caught:\", e)\n"
   ]
  },
  {
   "cell_type": "raw",
   "id": "0a804f3a",
   "metadata": {},
   "source": [
    "In this example, the divide function attempts to divide a number by zero, which raises a ZeroDivisionError exception. However, the exception is not handled within the divide function, so it propagates up to the try block in the main program. Since there is a try block but no corresponding except block to handle the ZeroDivisionError, the exception is not caught, and the program terminates with a traceback indicating the error."
   ]
  },
  {
   "cell_type": "raw",
   "id": "bb4ba383",
   "metadata": {},
   "source": [
    "Q3. Which Python statements are used to catch and handle exceptions? Explain with an example."
   ]
  },
  {
   "cell_type": "raw",
   "id": "f86a086f",
   "metadata": {},
   "source": [
    "Answer: \n",
    "Python uses try, except, else, and finally statements to handle exceptions.\n",
    "\n",
    "'try' block: Encloses code that might raise an exception. If an exception occurs, control jumps to the except block.\n",
    "\n",
    "'except' block: Catches and handles exceptions. It specifies the type of exception it can handle.\n",
    "\n",
    "else 'block': Executes if no exception occurs in the try block.\n",
    "\n",
    "'finally' block: Always executes, whether an exception occurs or not, often used to release resources."
   ]
  },
  {
   "cell_type": "code",
   "execution_count": 2,
   "id": "f5b5482d",
   "metadata": {},
   "outputs": [
    {
     "name": "stdout",
     "output_type": "stream",
     "text": [
      "Enter a number: 1\n",
      "Division successful. Result: 10.0\n",
      "This will always execute.\n"
     ]
    }
   ],
   "source": [
    "try:\n",
    "    x = int(input(\"Enter a number: \"))\n",
    "    y = 10 / x\n",
    "except ZeroDivisionError:\n",
    "    print(\"Error: Cannot divide by zero!\")\n",
    "except ValueError:\n",
    "    print(\"Error: Please enter a valid number!\")\n",
    "else:\n",
    "    print(\"Division successful. Result:\", y)\n",
    "finally:\n",
    "    print(\"This will always execute.\")\n"
   ]
  },
  {
   "cell_type": "raw",
   "id": "ab76a69b",
   "metadata": {},
   "source": [
    "Q4. Explain with an example:\n",
    "\n",
    "a. try and else\n",
    "b. finally\n",
    "c. raise"
   ]
  },
  {
   "cell_type": "code",
   "execution_count": 4,
   "id": "0977b509",
   "metadata": {},
   "outputs": [
    {
     "name": "stdout",
     "output_type": "stream",
     "text": [
      "Enter a number: 1\n",
      "You entered: 1\n"
     ]
    }
   ],
   "source": [
    "# a. try and else:\n",
    "\n",
    "# The 'try' block is used to enclose code that might raise an exception.\n",
    "# The 'else' block is executed if no exceptions are raised in the 'try' block.\n",
    "# Example:\n",
    "\n",
    "try:\n",
    "    x = int(input(\"Enter a number: \"))\n",
    "except ValueError:\n",
    "    print(\"Invalid input. Please enter a valid number.\")\n",
    "else:\n",
    "    print(\"You entered:\", x)\n"
   ]
  },
  {
   "cell_type": "code",
   "execution_count": 5,
   "id": "f86087ce",
   "metadata": {},
   "outputs": [
    {
     "name": "stdout",
     "output_type": "stream",
     "text": [
      "File not found.\n"
     ]
    },
    {
     "ename": "NameError",
     "evalue": "name 'file' is not defined",
     "output_type": "error",
     "traceback": [
      "\u001b[1;31m---------------------------------------------------------------------------\u001b[0m",
      "\u001b[1;31mNameError\u001b[0m                                 Traceback (most recent call last)",
      "\u001b[1;32m~\\AppData\\Local\\Temp\\ipykernel_13848\\3627352004.py\u001b[0m in \u001b[0;36m<module>\u001b[1;34m\u001b[0m\n\u001b[0;32m     10\u001b[0m     \u001b[0mprint\u001b[0m\u001b[1;33m(\u001b[0m\u001b[1;34m\"File not found.\"\u001b[0m\u001b[1;33m)\u001b[0m\u001b[1;33m\u001b[0m\u001b[1;33m\u001b[0m\u001b[0m\n\u001b[0;32m     11\u001b[0m \u001b[1;32mfinally\u001b[0m\u001b[1;33m:\u001b[0m\u001b[1;33m\u001b[0m\u001b[1;33m\u001b[0m\u001b[0m\n\u001b[1;32m---> 12\u001b[1;33m     \u001b[0mfile\u001b[0m\u001b[1;33m.\u001b[0m\u001b[0mclose\u001b[0m\u001b[1;33m(\u001b[0m\u001b[1;33m)\u001b[0m\u001b[1;33m\u001b[0m\u001b[1;33m\u001b[0m\u001b[0m\n\u001b[0m",
      "\u001b[1;31mNameError\u001b[0m: name 'file' is not defined"
     ]
    }
   ],
   "source": [
    "# b. finally:\n",
    "\n",
    "# The 'finally' block is always executed, whether an exception is raised or not. It is often used to release resources.\n",
    "# Example:\n",
    "\n",
    "try:\n",
    "    file = open(\"example.txt\", \"r\")\n",
    "    print(file.read())\n",
    "except FileNotFoundError:\n",
    "    print(\"File not found.\")\n",
    "finally:\n",
    "    file.close()\n"
   ]
  },
  {
   "cell_type": "code",
   "execution_count": 6,
   "id": "ada39cc7",
   "metadata": {},
   "outputs": [
    {
     "ename": "ValueError",
     "evalue": "Value must be positive",
     "output_type": "error",
     "traceback": [
      "\u001b[1;31m---------------------------------------------------------------------------\u001b[0m",
      "\u001b[1;31mValueError\u001b[0m                                Traceback (most recent call last)",
      "\u001b[1;32m~\\AppData\\Local\\Temp\\ipykernel_13848\\2083569942.py\u001b[0m in \u001b[0;36m<module>\u001b[1;34m\u001b[0m\n\u001b[0;32m      6\u001b[0m \u001b[0mx\u001b[0m \u001b[1;33m=\u001b[0m \u001b[1;33m-\u001b[0m\u001b[1;36m1\u001b[0m\u001b[1;33m\u001b[0m\u001b[1;33m\u001b[0m\u001b[0m\n\u001b[0;32m      7\u001b[0m \u001b[1;32mif\u001b[0m \u001b[0mx\u001b[0m \u001b[1;33m<\u001b[0m \u001b[1;36m0\u001b[0m\u001b[1;33m:\u001b[0m\u001b[1;33m\u001b[0m\u001b[1;33m\u001b[0m\u001b[0m\n\u001b[1;32m----> 8\u001b[1;33m     \u001b[1;32mraise\u001b[0m \u001b[0mValueError\u001b[0m\u001b[1;33m(\u001b[0m\u001b[1;34m\"Value must be positive\"\u001b[0m\u001b[1;33m)\u001b[0m\u001b[1;33m\u001b[0m\u001b[1;33m\u001b[0m\u001b[0m\n\u001b[0m",
      "\u001b[1;31mValueError\u001b[0m: Value must be positive"
     ]
    }
   ],
   "source": [
    "# c. raise:\n",
    "\n",
    "# The raise statement is used to raise an exception manually.\n",
    "# Example:\n",
    "\n",
    "x = -1\n",
    "if x < 0:\n",
    "    raise ValueError(\"Value must be positive\")"
   ]
  },
  {
   "cell_type": "code",
   "execution_count": 7,
   "id": "612f5a50",
   "metadata": {},
   "outputs": [],
   "source": [
    "# Q5. What are Custom Exceptions in python?  Why do we need Custom Exceptions? Explain with an example"
   ]
  },
  {
   "cell_type": "code",
   "execution_count": 8,
   "id": "0c484a68",
   "metadata": {},
   "outputs": [
    {
     "name": "stdout",
     "output_type": "stream",
     "text": [
      "Enter a number: 1\n"
     ]
    }
   ],
   "source": [
    "# Custom Exceptions in Python are user-defined exceptions that allow programmers to create their own exception types. \n",
    "# They are useful when standard exceptions are not sufficient to convey specific error conditions in a program.\n",
    "\n",
    "# Example:\n",
    "\n",
    "# Define a custom exception class\n",
    "class CustomError(Exception):\n",
    "    def __init__(self, message):\n",
    "        self.message = message\n",
    "\n",
    "# Use the custom exception\n",
    "try:\n",
    "    x = int(input(\"Enter a number: \"))\n",
    "    if x < 0:\n",
    "        raise CustomError(\"Number must be positive\")\n",
    "except CustomError as e:\n",
    "    print(\"Custom error:\", e.message)\n",
    "    \n",
    "# In this example, CustomError is a custom exception class that inherits from the Exception class. \n",
    "# It allows us to raise a specific exception when the input number is negative, providing a more meaningful error message.\n",
    "\n",
    "\n",
    "\n",
    "\n",
    "\n"
   ]
  },
  {
   "cell_type": "code",
   "execution_count": null,
   "id": "a9730628",
   "metadata": {},
   "outputs": [],
   "source": [
    "# Q6. Create custom exception class. Use this class to handle an exception."
   ]
  },
  {
   "cell_type": "code",
   "execution_count": 9,
   "id": "c28637f1",
   "metadata": {},
   "outputs": [
    {
     "name": "stdout",
     "output_type": "stream",
     "text": [
      "Custom error: Division by zero\n"
     ]
    }
   ],
   "source": [
    "# To create a custom exception class called CustomError for handling division by zero errors, \n",
    "# we can define the class and then use it in a try-except block to handle the exception.\n",
    "\n",
    "# Example:\n",
    "\n",
    "# Define a custom exception class\n",
    "class CustomError(Exception):\n",
    "    def __init__(self, message):\n",
    "        self.message = message\n",
    "\n",
    "# Use the custom exception to handle division by zero\n",
    "try:\n",
    "    x = 10\n",
    "    y = 0\n",
    "    if y == 0:\n",
    "        raise CustomError(\"Division by zero\")\n",
    "    result = x / y\n",
    "    print(\"Result:\", result)\n",
    "except CustomError as e:\n",
    "    print(\"Custom error:\", e.message)\n",
    "# In this example, the CustomError class is used to create a custom exception for handling division by zero errors. \n",
    "# If y is 0, the custom exception is raised, and the error message is printed. Otherwise, the division is performed normally."
   ]
  },
  {
   "cell_type": "code",
   "execution_count": null,
   "id": "8e70aed6",
   "metadata": {},
   "outputs": [],
   "source": []
  }
 ],
 "metadata": {
  "kernelspec": {
   "display_name": "Python 3 (ipykernel)",
   "language": "python",
   "name": "python3"
  },
  "language_info": {
   "codemirror_mode": {
    "name": "ipython",
    "version": 3
   },
   "file_extension": ".py",
   "mimetype": "text/x-python",
   "name": "python",
   "nbconvert_exporter": "python",
   "pygments_lexer": "ipython3",
   "version": "3.9.13"
  },
  "toc": {
   "base_numbering": 1,
   "nav_menu": {},
   "number_sections": true,
   "sideBar": true,
   "skip_h1_title": false,
   "title_cell": "Table of Contents",
   "title_sidebar": "Contents",
   "toc_cell": false,
   "toc_position": {},
   "toc_section_display": true,
   "toc_window_display": false
  }
 },
 "nbformat": 4,
 "nbformat_minor": 5
}
