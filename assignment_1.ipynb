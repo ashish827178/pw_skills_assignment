{
 "cells": [
  {
   "cell_type": "markdown",
   "id": "459e02ef",
   "metadata": {},
   "source": [
    "Q1. Create one variable containing following type of data:\n",
    "(i) string\n",
    "a = \"String\"\n",
    "\n",
    "(ii) list\n",
    "b = [1,2,3,4]\n",
    "\n",
    "(iii) float\n",
    "c = 4.1\n",
    "\n",
    "(iv) tuple\n",
    "tup = (1,)\n"
   ]
  },
  {
   "cell_type": "markdown",
   "id": "569afe66",
   "metadata": {},
   "source": [
    "Q2. Given are some following variables containing data:\n",
    "(i) var1 = ‘ ‘\n",
    "string\n",
    "\n",
    "(ii) var2 = ‘[ DS , ML , Python]’\n",
    "string\n",
    "\n",
    "(iii) var3 = [ ‘DS’ , ’ML’ , ‘Python’ ]\n",
    "list\n",
    "\n",
    "(iv) var4 = 1.\n",
    "float\n"
   ]
  },
  {
   "cell_type": "markdown",
   "id": "d6c49ccc",
   "metadata": {},
   "source": [
    "Q3. Explain the use of the following operators using an example:\n",
    " (i) /\n",
    "The / operator is used for regular division between two numbers in Python. When both operands are integers,\n",
    "it performs floor division, which means it truncates the decimal part and returns an integer result.\n",
    "\n",
    " (ii) %\n",
    "The % operator is used to calculate the remainder of the division between two numbers.\n",
    "\n",
    " (iii) //\n",
    "The // operator is used for floor division, where it returns the quotient as an integer, truncating the decimal part.\n",
    "\n",
    " (iv) **\n",
    "The ** operator is used for exponentiation, where it raises the left operand to the power of the right operand."
   ]
  },
  {
   "cell_type": "code",
   "execution_count": 4,
   "id": "c3c7c85d",
   "metadata": {},
   "outputs": [
    {
     "name": "stdout",
     "output_type": "stream",
     "text": [
      "Element: 1, Data Type: int\n",
      "Element: Hello, Data Type: str\n",
      "Element: 3.14, Data Type: float\n",
      "Element: True, Data Type: bool\n",
      "Element: [1, 2, 3], Data Type: list\n",
      "Element: Python, Data Type: str\n",
      "Element: 42, Data Type: int\n",
      "Element: False, Data Type: bool\n",
      "Element: {'name': 'John'}, Data Type: dict\n",
      "Element: None, Data Type: NoneType\n"
     ]
    }
   ],
   "source": [
    "# Q4. Create a list of length 10 of your choice containing multiple types of data. Using for loop print the\n",
    "# element and its data type.\n",
    "my_list = [1, 'Hello', 3.14, True, [1, 2, 3], 'Python', 42, False, {'name': 'John'}, None]\n",
    "\n",
    "for element in my_list:\n",
    "    print(f\"Element: {element}, Data Type: {type(element).__name__}\")\n"
   ]
  },
  {
   "cell_type": "code",
   "execution_count": 5,
   "id": "e330d011",
   "metadata": {},
   "outputs": [
    {
     "name": "stdout",
     "output_type": "stream",
     "text": [
      "256 is divisible by 2 and can be divided 8 times.\n"
     ]
    }
   ],
   "source": [
    "# Q5. Using a while loop, verify if the number A is purely divisible by number B and if so then how many\n",
    "# times it can be divisible.\n",
    "def find_divisions(a, b):\n",
    "    count = 0\n",
    "    while a >= b and a % b == 0:\n",
    "        a /= b\n",
    "        count += 1\n",
    "    return count\n",
    "\n",
    "# Example usage:\n",
    "number_a = 256\n",
    "number_b = 2\n",
    "\n",
    "divisions = find_divisions(number_a, number_b)\n",
    "if divisions > 0:\n",
    "    print(f\"{number_a} is divisible by {number_b} and can be divided {divisions} times.\")\n",
    "else:\n",
    "    print(f\"{number_a} is not divisible by {number_b}.\")"
   ]
  },
  {
   "cell_type": "code",
   "execution_count": 11,
   "id": "5c3a7cee",
   "metadata": {},
   "outputs": [
    {
     "name": "stdout",
     "output_type": "stream",
     "text": [
      "69 is divisible by 3\n",
      "61 is not divisible by 3\n",
      "49 is not divisible by 3\n",
      "12 is divisible by 3\n",
      "24 is divisible by 3\n",
      "57 is divisible by 3\n",
      "92 is not divisible by 3\n",
      "68 is not divisible by 3\n",
      "33 is divisible by 3\n",
      "86 is not divisible by 3\n",
      "43 is not divisible by 3\n",
      "97 is not divisible by 3\n",
      "23 is not divisible by 3\n",
      "6 is divisible by 3\n",
      "89 is not divisible by 3\n",
      "39 is divisible by 3\n",
      "24 is divisible by 3\n",
      "77 is not divisible by 3\n",
      "42 is divisible by 3\n",
      "90 is divisible by 3\n",
      "70 is not divisible by 3\n",
      "33 is divisible by 3\n",
      "69 is divisible by 3\n",
      "6 is divisible by 3\n",
      "66 is divisible by 3\n"
     ]
    }
   ],
   "source": [
    "# Q6. Create a list containing 25 int type data. Using for loop and if-else condition print if the element is divisible by 3 or not.\n",
    "\n",
    "a = [69, 61, 49, 12, 24, 57, 92, 68, 33, 86, 43, 97, 23,  6, 89, 39, 24,\n",
    "        77, 42, 90, 70, 33, 69,  6, 66]\n",
    "for i in a:\n",
    "    if i % 3 ==0:\n",
    "        print(f\"{i} is divisible by 3\")\n",
    "    else:\n",
    "        print(f\"{i} is not divisible by 3\")"
   ]
  },
  {
   "cell_type": "code",
   "execution_count": null,
   "id": "25ba6c36",
   "metadata": {},
   "outputs": [],
   "source": [
    "# Q7. What do you understand about mutable and immutable data types? Give examples for both showing this property.\n",
    "\n",
    "Immutable Data Types: Cannot be changed after creation. Modifying them creates a new object.\n",
    "Examples: int, float, bool, str, tuple.\n",
    "\n",
    "Mutable Data Types: Can be changed after creation. Modifications directly affect the same object.\n",
    "Examples: list, dict, set."
   ]
  }
 ],
 "metadata": {
  "kernelspec": {
   "display_name": "Python 3 (ipykernel)",
   "language": "python",
   "name": "python3"
  },
  "language_info": {
   "codemirror_mode": {
    "name": "ipython",
    "version": 3
   },
   "file_extension": ".py",
   "mimetype": "text/x-python",
   "name": "python",
   "nbconvert_exporter": "python",
   "pygments_lexer": "ipython3",
   "version": "3.9.13"
  },
  "toc": {
   "base_numbering": 1,
   "nav_menu": {},
   "number_sections": true,
   "sideBar": true,
   "skip_h1_title": false,
   "title_cell": "Table of Contents",
   "title_sidebar": "Contents",
   "toc_cell": false,
   "toc_position": {},
   "toc_section_display": true,
   "toc_window_display": false
  }
 },
 "nbformat": 4,
 "nbformat_minor": 5
}
