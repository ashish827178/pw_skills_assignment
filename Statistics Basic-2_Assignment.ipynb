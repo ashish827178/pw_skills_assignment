{
 "cells": [
  {
   "cell_type": "raw",
   "id": "954d86e3",
   "metadata": {},
   "source": [
    "Q1. What are the three measures of central tendency?\n",
    "\n",
    "The three measures of central tendency are:\n",
    "\n",
    "Mean: The mean is calculated by summing up all the values in a dataset and dividing by the number of values. It represents the average value of the data.\n",
    "\n",
    "Median: The median is the middle value in a dataset when the values are arranged in ascending or descending order. If there is an even number of values, the median is the average of the two middle values.\n",
    "\n",
    "Mode: The mode is the value that appears most frequently in a dataset. A dataset can have one mode (unimodal), two modes (bimodal), or more than two modes (multimodal)."
   ]
  },
  {
   "cell_type": "raw",
   "id": "7714acaf",
   "metadata": {},
   "source": [
    "# Q2. What is the difference between the mean, median, and mode? How are they used to measure the central tendency of a dataset?\n",
    "\n",
    "Mean:\n",
    "The mean is calculated by summing up all the values in a dataset and then dividing by the number of values.\n",
    "The mean represents the arithmetic average of the data and provides a measure of the central value. It is sensitive to outliers and can be influenced by extreme values.\n",
    "\n",
    "Median:\n",
    "The median is the middle value of a dataset when the values are arranged in ascending or descending order. If there is an even number of values, the median is the average of the two middle values.\n",
    "The median is a robust measure of central tendency that is not affected by extreme values or outliers. It gives a sense of the central value that divides the data into two equal halves.\n",
    "\n",
    "Mode:\n",
    "The mode is the value that appears most frequently in a dataset.\n",
    "The mode is used to identify the most common value or values in a dataset. It is particularly useful for categorical or discrete data.\n",
    "\n",
    "How They Are Used:\n",
    "\n",
    "Mean: The mean is commonly used when you want to understand the average value of a dataset. It's suitable for normally distributed data and provides a balance between all data points. However, it can be influenced by outliers and skewed data.\n",
    "\n",
    "Median: The median is used when you want to find the middle value of a dataset, especially when dealing with skewed or non-normally distributed data. It's less sensitive to outliers and provides a better representation of central tendency in such cases.\n",
    "\n",
    "Mode: The mode is used to identify the most frequent values in a dataset. It's useful for understanding the most typical or popular values, especially in categorical data or situations where specific values are of interest."
   ]
  },
  {
   "cell_type": "code",
   "execution_count": 5,
   "id": "d48c2921",
   "metadata": {},
   "outputs": [
    {
     "name": "stdout",
     "output_type": "stream",
     "text": [
      "Mean of data \n",
      "177.01875\n",
      "Median of data \n",
      "177.0\n",
      "Mode of data \n",
      "ModeResult(mode=array([177.]), count=array([3]))\n"
     ]
    },
    {
     "name": "stderr",
     "output_type": "stream",
     "text": [
      "C:\\Users\\91914\\AppData\\Local\\Temp\\ipykernel_7432\\724841606.py:12: FutureWarning: Unlike other reduction functions (e.g. `skew`, `kurtosis`), the default behavior of `mode` typically preserves the axis it acts along. In SciPy 1.11.0, this behavior will change: the default value of `keepdims` will become False, the `axis` over which the statistic is taken will be eliminated, and the value None will no longer be accepted. Set `keepdims` to True or False to avoid this warning.\n",
      "  print(stats.mode(height))\n"
     ]
    }
   ],
   "source": [
    "# Q3. Measure the three measures of central tendency for the given height data:\n",
    "height = [178,177,176,177,178.2,178,175,179,180,175,178.9,176.2,177,172.5,178,176.5]\n",
    "\n",
    "import numpy as np\n",
    "from scipy import stats\n",
    "\n",
    "print(\"Mean of data \")\n",
    "print( np.mean(height))\n",
    "print(\"Median of data \")\n",
    "print(np.median(height))\n",
    "print(\"Mode of data \")\n",
    "print(stats.mode(height))"
   ]
  },
  {
   "cell_type": "code",
   "execution_count": 6,
   "id": "c947d045",
   "metadata": {},
   "outputs": [
    {
     "data": {
      "text/plain": [
       "1.7885814036548633"
      ]
     },
     "execution_count": 6,
     "metadata": {},
     "output_type": "execute_result"
    }
   ],
   "source": [
    "# Q4. Find the standard deviation for the given data:\n",
    "height = [178,177,176,177,178.2,178,175,179,180,175,178.9,176.2,177,172.5,178,176.5]\n",
    "\n",
    "import numpy as np\n",
    "\n",
    "np.std(height)"
   ]
  },
  {
   "cell_type": "raw",
   "id": "a89e530d",
   "metadata": {},
   "source": [
    "Q5. How are measures of dispersion such as range, variance, and standard deviation used to describe the spread of a dataset? Provide an example.\n",
    "\n",
    "Measures of Dispersion such as range, variance, and standard deviation are used to describe the spread or variability of data points within a dataset. They provide insights into how much the values deviate from the central tendency measures (mean, median, mode).\n"
   ]
  },
  {
   "cell_type": "code",
   "execution_count": 7,
   "id": "025e9d1c",
   "metadata": {},
   "outputs": [
    {
     "name": "stdout",
     "output_type": "stream",
     "text": [
      "Range: 7.5\n",
      "Variance: 3.199023437500001\n",
      "Standard Deviation: 1.7885814036548633\n"
     ]
    }
   ],
   "source": [
    "# Example\n",
    "\n",
    "import numpy as np\n",
    "\n",
    "height = [178,177,176,177,178.2,178,175,179,180,175,178.9,176.2,177,172.5,178,176.5]\n",
    "\n",
    "\n",
    "# Calculate range\n",
    "range_val = np.max(height) - np.min(height)\n",
    "\n",
    "# Calculate variance\n",
    "mean = np.mean(height)\n",
    "squared_diff = [(x - mean) ** 2 for x in height]\n",
    "variance = np.mean(squared_diff)\n",
    "\n",
    "# Calculate standard deviation\n",
    "std_dev = np.sqrt(variance)\n",
    "\n",
    "print(\"Range:\", range_val)\n",
    "print(\"Variance:\", variance)\n",
    "print(\"Standard Deviation:\", std_dev)\n"
   ]
  },
  {
   "cell_type": "raw",
   "id": "fa103623",
   "metadata": {},
   "source": [
    "# Q6. What is a Venn diagram?\n",
    "\n",
    "A Venn diagram is a graphical representation used to illustrate the  relationships and similarities between sets or groups of objects, elements, or concepts. It consists of overlapping circles (or other shapes) that represent the sets being compared. The intersections of these circles show the common elements or characteristics shared by the sets, while the individual circles represent the unique elements or characteristics of each set."
   ]
  },
  {
   "cell_type": "code",
   "execution_count": 16,
   "id": "c4595e74",
   "metadata": {},
   "outputs": [
    {
     "name": "stdout",
     "output_type": "stream",
     "text": [
      "Intersection: {2, 6}\n",
      "Union:  {0, 2, 3, 4, 5, 6, 7, 8, 10}\n"
     ]
    }
   ],
   "source": [
    "# Q7. For the two given sets A = (2,3,4,5,6,7) & B = (0,2,6,8,10). Find:\n",
    "# (i) A B                                         (ii) A ⋃ B\n",
    "\n",
    "A = (2,3,4,5,6,7) \n",
    "B = (0,2,6,8,10)\n",
    "\n",
    "intersection_result = set(A).intersection(B)\n",
    "print(\"Intersection:\", intersection_result)\n",
    "\n",
    "union_rresult = set(A).union(B)\n",
    "print(\"Union: \", union_rresult)\n"
   ]
  },
  {
   "cell_type": "raw",
   "id": "9beea529",
   "metadata": {},
   "source": [
    "Q8. What do you understand about skewness in data?\n",
    "\n",
    "Skewness in data refers to the degree of asymmetry in the distribution of data points in a dataset. It indicates whether the data distribution is balanced (symmetrical) or tilted towards one side (asymmetrical). Skewness is an important concept in statistics and data analysis as it provides insights into the shape of the distribution and the behavior of data points relative to the mean.\n",
    "\n"
   ]
  },
  {
   "cell_type": "raw",
   "id": "b3ef7cb4",
   "metadata": {},
   "source": [
    "Q9. If a data is right skewed then what will be the position of median with respect to mean?\n",
    "\n",
    "The mean will be greater than the median"
   ]
  },
  {
   "cell_type": "raw",
   "id": "0abc3910",
   "metadata": {},
   "source": [
    "Q10. Explain the difference between covariance and correlation. How are these measures used in statistical analysis?\n",
    "\n",
    "Covariance:\n",
    "\n",
    "Covariance measures the degree to which two variables change together. It indicates whether an increase in one variable is associated with an increase or decrease in another variable.\n",
    "\n",
    "The magnitude of covariance depends on the scales of the variables. Positive covariance indicates that the variables tend to move in the same direction, while negative covariance indicates they move in opposite directions.\n",
    "\n",
    "Correlation:\n",
    "\n",
    "Correlation measures the strength and direction of the linear relationship between two variables. It standardizes the covariance by dividing it by the product of the standard deviations of the variables.\n",
    "\n",
    "Correlation values range from -1 to 1. A correlation of +1 indicates a perfect positive linear relationship, -1 indicates a perfect negative linear relationship, and 0 indicates no linear relationship"
   ]
  },
  {
   "cell_type": "raw",
   "id": "92dbc8a5",
   "metadata": {},
   "source": [
    "Q11. What is the formula for calculating the sample mean? Provide an example calculation for a dataset.\n",
    "\n",
    "The formula for calculating the sample mean (also known as the arithmetic mean) of a dataset is:\n",
    "\n",
    "Sample Mean = (Sum of all data points) / (Number of data points)\n",
    "\n",
    "Mathematically, it can be represented as:\n",
    "\n",
    "Sample Mean (x̄) = Σx / n\n",
    "\n",
    "Where:\n",
    "\n",
    "    x̄ is the sample mean\n",
    "    Σx represents the sum of all data points\n",
    "    n is the number of data points\n",
    "    \n",
    "    "
   ]
  },
  {
   "cell_type": "code",
   "execution_count": 17,
   "id": "3d134cb1",
   "metadata": {},
   "outputs": [
    {
     "name": "stdout",
     "output_type": "stream",
     "text": [
      "Sample Mean: 17.4\n"
     ]
    }
   ],
   "source": [
    "data = [12, 15, 18, 20, 22]\n",
    "n = len(data)  # Number of data points\n",
    "\n",
    "sum_data = sum(data)  # Sum of all data points\n",
    "sample_mean = sum_data / n\n",
    "\n",
    "print(\"Sample Mean:\", sample_mean)\n"
   ]
  },
  {
   "cell_type": "raw",
   "id": "b7a4565b",
   "metadata": {},
   "source": [
    "Q12. For a normal distribution data what is the relationship between its measure of central tendency?\n",
    "\n",
    "For a normal distribution (also known as a Gaussian distribution), the relationship between its measures of central tendency (mean, median, and mode) is straightforward and follows a specific pattern:\n",
    "\n",
    "Mean, Median, and Mode are Equal\n",
    "Symmetry Around the Mean\n",
    "No Skewness"
   ]
  },
  {
   "cell_type": "raw",
   "id": "47394b7c",
   "metadata": {},
   "source": [
    "Q13. How is covariance different from correlation?\n",
    "\n",
    "Covariance:\n",
    "\n",
    "Covariance tells us whether two things tend to change in similar ways or opposite ways.\n",
    "\n",
    "It doesn't have a clear scale or range, so it's not easy to compare directly.\n",
    "    \n",
    "It's like saying, \"When one thing goes up, does the other thing also tend to go up or down?\"\n",
    "\n",
    "Correlation:\n",
    "\n",
    "Correlation also tells us if two things change together, but it's more informative.\n",
    "\n",
    "It gives a number between -1 and 1 that tells us how strong and in which direction the relationship is.\n",
    "\n",
    "It's like saying, \"When one thing goes up, does the other thing also go up a lot, a little, or even down?\""
   ]
  },
  {
   "cell_type": "raw",
   "id": "76c43553",
   "metadata": {},
   "source": [
    "Q14. How do outliers affect measures of central tendency and dispersion? Provide an example.\n",
    "\n",
    "Outliers are data points that significantly differ from the rest of the data in a dataset. They can have a notable impact on measures of central tendency (mean, median, mode) and measures of dispersion (range, variance, standard deviation).\n",
    "\n",
    "Measures of Central Tendency:\n",
    "\n",
    "Mean: Outliers can heavily influence the mean because the mean takes into account all data points. A single extreme value can pull the mean towards it.\n",
    "\n",
    "Median: The median is less affected by outliers since it only considers the middle value. Outliers don't impact the median as much as they do the mean.\n",
    "\n",
    "Mode: The mode might not be affected by outliers since it's the most common value. However, if an outlier occurs frequently, it could impact the mode.\n",
    "\n",
    "Measures of Dispersion:\n",
    "\n",
    "Range: Outliers can greatly affect the range because they can be much larger or smaller than the rest of the data. The range becomes wide if there are outliers.\n",
    "\n",
    "Variance and Standard Deviation: Outliers increase the variance and standard deviation because they introduce larger deviations from the mean. They contribute to the spread of the data.\n",
    "\n",
    "Interquartile Range (IQR): The IQR is less affected by outliers since it's based on quartiles, which are not heavily influenced by extreme values."
   ]
  },
  {
   "cell_type": "code",
   "execution_count": 18,
   "id": "c649850a",
   "metadata": {},
   "outputs": [
    {
     "name": "stdout",
     "output_type": "stream",
     "text": [
      "Measures without the outlier:\n",
      "Mean: 86.8\n",
      "Median: 87.0\n",
      "Range: 23\n",
      "Variance: 47.96\n",
      "Standard Deviation: 6.925315877272314\n",
      "\n",
      "Measures with the outlier:\n",
      "Mean: 92.54545454545455\n",
      "Median: 88.0\n",
      "Range: 75\n",
      "Variance: 373.702479338843\n",
      "Standard Deviation: 19.331385861826952\n"
     ]
    }
   ],
   "source": [
    "import numpy as np\n",
    "\n",
    "# Example dataset with an outlier\n",
    "data_with_outlier = np.array([75, 78, 82, 84, 86, 88, 90, 92, 95, 98, 150])\n",
    "\n",
    "# Calculate measures without the outlier\n",
    "data_without_outlier = data_with_outlier[:-1]  # Removing the outlier\n",
    "mean_without_outlier = np.mean(data_without_outlier)\n",
    "median_without_outlier = np.median(data_without_outlier)\n",
    "range_without_outlier = np.max(data_without_outlier) - np.min(data_without_outlier)\n",
    "variance_without_outlier = np.var(data_without_outlier)\n",
    "std_dev_without_outlier = np.std(data_without_outlier)\n",
    "\n",
    "# Calculate measures with the outlier\n",
    "mean_with_outlier = np.mean(data_with_outlier)\n",
    "median_with_outlier = np.median(data_with_outlier)\n",
    "range_with_outlier = np.max(data_with_outlier) - np.min(data_with_outlier)\n",
    "variance_with_outlier = np.var(data_with_outlier)\n",
    "std_dev_with_outlier = np.std(data_with_outlier)\n",
    "\n",
    "# Print results\n",
    "print(\"Measures without the outlier:\")\n",
    "print(\"Mean:\", mean_without_outlier)\n",
    "print(\"Median:\", median_without_outlier)\n",
    "print(\"Range:\", range_without_outlier)\n",
    "print(\"Variance:\", variance_without_outlier)\n",
    "print(\"Standard Deviation:\", std_dev_without_outlier)\n",
    "print()\n",
    "\n",
    "print(\"Measures with the outlier:\")\n",
    "print(\"Mean:\", mean_with_outlier)\n",
    "print(\"Median:\", median_with_outlier)\n",
    "print(\"Range:\", range_with_outlier)\n",
    "print(\"Variance:\", variance_with_outlier)\n",
    "print(\"Standard Deviation:\", std_dev_with_outlier)\n"
   ]
  },
  {
   "cell_type": "code",
   "execution_count": null,
   "id": "662e5eb9",
   "metadata": {},
   "outputs": [],
   "source": []
  }
 ],
 "metadata": {
  "kernelspec": {
   "display_name": "Python 3 (ipykernel)",
   "language": "python",
   "name": "python3"
  },
  "language_info": {
   "codemirror_mode": {
    "name": "ipython",
    "version": 3
   },
   "file_extension": ".py",
   "mimetype": "text/x-python",
   "name": "python",
   "nbconvert_exporter": "python",
   "pygments_lexer": "ipython3",
   "version": "3.9.13"
  },
  "toc": {
   "base_numbering": 1,
   "nav_menu": {},
   "number_sections": true,
   "sideBar": true,
   "skip_h1_title": false,
   "title_cell": "Table of Contents",
   "title_sidebar": "Contents",
   "toc_cell": false,
   "toc_position": {},
   "toc_section_display": true,
   "toc_window_display": false
  }
 },
 "nbformat": 4,
 "nbformat_minor": 5
}
