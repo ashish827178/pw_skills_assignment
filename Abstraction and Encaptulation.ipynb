{
 "cells": [
  {
   "cell_type": "markdown",
   "id": "b597e64f",
   "metadata": {},
   "source": [
    "Q1. What is Abstraction in OOps? Explain with an example.\n",
    "\n",
    "Answer:\n",
    "Abstraction in object-oriented programming (OOP) is the concept of hiding the complex implementation details and showing only the essential features of an object. It allows the programmer to focus on what an object does rather than how it does it, thus simplifying the programming model and making the code more understandable and maintainable.\n",
    "\n",
    "In OOP, abstraction is achieved through abstract classes and interfaces. Abstract classes are classes that cannot be instantiated and can contain abstract methods (methods without a body) that must be implemented by subclasses. Interfaces are similar to abstract classes but can only contain method signatures (no implementation)."
   ]
  },
  {
   "cell_type": "code",
   "execution_count": 1,
   "id": "17360c3e",
   "metadata": {},
   "outputs": [
    {
     "name": "stdout",
     "output_type": "stream",
     "text": [
      "Area of Circle: 78.5\n",
      "Perimeter of Circle: 31.400000000000002\n",
      "Area of Rectangle: 24\n",
      "Perimeter of Rectangle: 20\n"
     ]
    }
   ],
   "source": [
    "from abc import ABC, abstractmethod\n",
    "\n",
    "# Abstract class\n",
    "class Shape(ABC):\n",
    "    def __init__(self, name):\n",
    "        self.name = name\n",
    "\n",
    "    @abstractmethod\n",
    "    def area(self):\n",
    "        pass\n",
    "\n",
    "    @abstractmethod\n",
    "    def perimeter(self):\n",
    "        pass\n",
    "\n",
    "# Concrete classes\n",
    "class Circle(Shape):\n",
    "    def __init__(self, name, radius):\n",
    "        super().__init__(name)\n",
    "        self.radius = radius\n",
    "\n",
    "    def area(self):\n",
    "        return 3.14 * self.radius**2\n",
    "\n",
    "    def perimeter(self):\n",
    "        return 2 * 3.14 * self.radius\n",
    "\n",
    "class Rectangle(Shape):\n",
    "    def __init__(self, name, length, width):\n",
    "        super().__init__(name)\n",
    "        self.length = length\n",
    "        self.width = width\n",
    "\n",
    "    def area(self):\n",
    "        return self.length * self.width\n",
    "\n",
    "    def perimeter(self):\n",
    "        return 2 * (self.length + self.width)\n",
    "\n",
    "# Using the classes\n",
    "circle = Circle(\"Circle\", 5)\n",
    "rectangle = Rectangle(\"Rectangle\", 4, 6)\n",
    "\n",
    "print(f\"Area of {circle.name}: {circle.area()}\")\n",
    "print(f\"Perimeter of {circle.name}: {circle.perimeter()}\")\n",
    "\n",
    "print(f\"Area of {rectangle.name}: {rectangle.area()}\")\n",
    "print(f\"Perimeter of {rectangle.name}: {rectangle.perimeter()}\")\n"
   ]
  },
  {
   "cell_type": "markdown",
   "id": "4c31b0a7",
   "metadata": {},
   "source": [
    "Q2. Differentiate between Abstraction and Encapsulation. Explain with an example.\n",
    "\n",
    "Answer:\n",
    "Abstraction and encapsulation are two fundamental concepts in object-oriented programming (OOP), but they serve different purposes.\n",
    "\n",
    "Abstraction:\n",
    "\n",
    "Abstraction is the concept of hiding the complex implementation details and showing only the essential features of an object.\n",
    "It focuses on what an object does, rather than how it does it.\n",
    "Abstraction is achieved through abstract classes and interfaces, which define a common interface for a group of related classes.\n",
    "Encapsulation:\n",
    "\n",
    "Encapsulation is the bundling of data (attributes) and methods (functions) that operate on the data into a single unit (class).\n",
    "It restricts access to the internal state of an object and only allows access through the object's methods.\n",
    "Encapsulation helps in achieving data hiding, which is a key principle in OOP, as it protects the object's internal state from unintended modification."
   ]
  },
  {
   "cell_type": "code",
   "execution_count": 2,
   "id": "ed3368ae",
   "metadata": {},
   "outputs": [
    {
     "name": "stdout",
     "output_type": "stream",
     "text": [
      "Employee name: Alice\n",
      "Employee salary: 50000\n",
      "Updated employee salary: 60000\n",
      "Area of Circle: 78.5\n"
     ]
    }
   ],
   "source": [
    "# Abstraction example\n",
    "from abc import ABC, abstractmethod\n",
    "\n",
    "class Shape(ABC):\n",
    "    def __init__(self, name):\n",
    "        self.name = name\n",
    "\n",
    "    @abstractmethod\n",
    "    def area(self):\n",
    "        pass\n",
    "\n",
    "# Encapsulation example\n",
    "class Employee:\n",
    "    def __init__(self, name, salary):\n",
    "        self._name = name  # Encapsulation: using \"_\" to indicate private attribute\n",
    "        self._salary = salary\n",
    "\n",
    "    def get_name(self):\n",
    "        return self._name\n",
    "\n",
    "    def get_salary(self):\n",
    "        return self._salary\n",
    "\n",
    "    def set_salary(self, salary):\n",
    "        if salary > 0:\n",
    "            self._salary = salary\n",
    "\n",
    "# Using abstraction\n",
    "class Circle(Shape):\n",
    "    def __init__(self, name, radius):\n",
    "        super().__init__(name)\n",
    "        self.radius = radius\n",
    "\n",
    "    def area(self):\n",
    "        return 3.14 * self.radius**2\n",
    "\n",
    "# Using encapsulation\n",
    "employee = Employee(\"Alice\", 50000)\n",
    "print(f\"Employee name: {employee.get_name()}\")\n",
    "print(f\"Employee salary: {employee.get_salary()}\")\n",
    "employee.set_salary(60000)\n",
    "print(f\"Updated employee salary: {employee.get_salary()}\")\n",
    "\n",
    "circle = Circle(\"Circle\", 5)\n",
    "print(f\"Area of {circle.name}: {circle.area()}\")\n"
   ]
  },
  {
   "cell_type": "markdown",
   "id": "90db5cf3",
   "metadata": {},
   "source": [
    "Q3. What is abc module in python? Why is it used?\n",
    "\n",
    "\n",
    "Answer:\n",
    "The abc module in Python stands for Abstract Base Classes. It provides tools for creating abstract base classes (ABCs). An abstract base class is a kind of class that cannot be instantiated on its own and is designed to be subclassed by other classes, which then provide concrete implementations of its abstract methods.\n",
    "\n",
    "The abc module is used to define abstract base classes and abstract methods. It allows you to define a common interface for a group of related classes, ensuring that all subclasses implement the required methods. This helps in enforcing a consistent interface across different implementations and promoting code reusability."
   ]
  },
  {
   "cell_type": "markdown",
   "id": "a5dc7995",
   "metadata": {},
   "source": [
    "Q4. How can we achieve data abstraction?\n",
    "\n",
    "Answer:\n",
    "Data abstraction in object-oriented programming (OOP) can be achieved using classes and objects. It involves hiding the internal state and implementation details of an object and only exposing a simplified interface for interacting with the object. Here are some key concepts and techniques to achieve data abstraction:\n",
    "\n",
    "Classes and Objects: Define classes to represent real-world entities or concepts. Use classes to encapsulate data (attributes) and behavior (methods) related to those entities.\n",
    "\n",
    "Access Modifiers: Use access modifiers like private, protected, and public to control access to the attributes and methods of a class. This helps in hiding the internal state of an object and exposing only the necessary functionality.\n",
    "\n",
    "Encapsulation: Encapsulate data within a class, ensuring that the data is accessed and modified only through the methods defined in the class. This helps in achieving data hiding and abstraction.\n",
    "\n",
    "Abstract Base Classes: Use abstract base classes (ABCs) to define a common interface for a group of related classes. ABCs can have abstract methods that must be implemented by subclasses, ensuring a consistent interface across different implementations.\n",
    "\n",
    "Interfaces: Use interfaces to define a contract for classes that implement them. Interfaces specify the methods that implementing classes must provide, but they do not contain any implementation details. This allows for polymorphism and interchangeable implementations.\n",
    "\n",
    "Method Overriding: Use method overriding to provide a specific implementation of a method in a subclass that is already provided by its superclass. This allows for customization and specialization of behavior."
   ]
  },
  {
   "cell_type": "markdown",
   "id": "5dca4f1a",
   "metadata": {},
   "source": [
    "Q5. Can we create an instance of an abstract class? Explain your answer.\n",
    "\n",
    "Answer:\n",
    "    No, we cannot create an instance of an abstract class in Python. Abstract classes are meant to be subclassed and provide a blueprint for other classes to inherit from. They typically contain one or more abstract methods that must be implemented by subclasses.\n",
    "\n",
    "Attempting to create an instance of an abstract class directly will result in a TypeError. Python's abc module provides the ABC class and the abstractmethod decorator to define abstract classes and methods, respectively. When a class inherits from an abstract class, it must implement all the abstract methods, otherwise, it will also be considered abstract and cannot be instantiated."
   ]
  },
  {
   "cell_type": "code",
   "execution_count": null,
   "id": "55a8d49e",
   "metadata": {},
   "outputs": [],
   "source": []
  }
 ],
 "metadata": {
  "kernelspec": {
   "display_name": "Python 3 (ipykernel)",
   "language": "python",
   "name": "python3"
  },
  "language_info": {
   "codemirror_mode": {
    "name": "ipython",
    "version": 3
   },
   "file_extension": ".py",
   "mimetype": "text/x-python",
   "name": "python",
   "nbconvert_exporter": "python",
   "pygments_lexer": "ipython3",
   "version": "3.9.13"
  },
  "toc": {
   "base_numbering": 1,
   "nav_menu": {},
   "number_sections": true,
   "sideBar": true,
   "skip_h1_title": false,
   "title_cell": "Table of Contents",
   "title_sidebar": "Contents",
   "toc_cell": false,
   "toc_position": {},
   "toc_section_display": true,
   "toc_window_display": false
  }
 },
 "nbformat": 4,
 "nbformat_minor": 5
}
