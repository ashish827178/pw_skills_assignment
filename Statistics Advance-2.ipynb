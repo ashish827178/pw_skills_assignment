{
 "cells": [
  {
   "cell_type": "raw",
   "id": "6e4b4eb0",
   "metadata": {},
   "source": [
    "Q1: What are the Probability Mass Function (PMF) and Probability Density Function (PDF)? Explain with an example.\n",
    "\n",
    "The Probability Mass Function (PMF) and Probability Density Function (PDF) are fundamental concepts in probability and statistics used to describe the probability distribution of discrete and continuous random variables, respectively.\n",
    "\n",
    "Probability Mass Function (PMF):\n",
    "The PMF is used for discrete random variables, which take on distinct, countable values. The PMF assigns a probability to each possible value of the random variable. Mathematically, for a discrete random variable X, the PMF is denoted as P(X = x), where \"x\" is a specific value.\n",
    "\n",
    "Example:\n",
    "Consider rolling a fair six-sided die. The random variable X represents the outcome of the roll. \n",
    "\n",
    "Probability Density Function (PDF):\n",
    "The PDF is used for continuous random variables, which can take on an infinite number of values within a certain range. The PDF represents the likelihood of the random variable falling within a specific interval of values. Unlike the PMF, which assigns probabilities to individual values, the PDF gives the relative likelihood of values in an interval.\n",
    "\n",
    "Mathematically, for a continuous random variable X, the PDF is denoted as f(x), where \"x\" is a specific value (or interval).\n",
    "\n",
    "Example:\n",
    "Consider the height of students in a class."
   ]
  },
  {
   "cell_type": "raw",
   "id": "6939e9e1",
   "metadata": {},
   "source": [
    "Q2: What is Cumulative Density Function (CDF)? Explain with an example. Why CDF is used?\n",
    "\n",
    "The Cumulative Distribution Function (CDF) is a fundamental concept in probability and statistics that provides information about the probability that a random variable takes on a value less than or equal to a given value. It gives a cumulative view of the distribution of the random variable.\n",
    "\n",
    "Mathematically, for a random variable X, the CDF is denoted as F(x) and is defined as:\n",
    "\n",
    "F(x) = P(X ≤ x)\n",
    "\n",
    "The CDF provides several important insights and applications in probability and statistics:\n",
    "\n",
    "Quantifying Probabilities: The CDF gives a complete picture of the probabilities associated with the random variable. It helps us understand the likelihood of observing different values or ranges of values.\n",
    "\n",
    "Calculating Percentiles: The CDF allows us to find percentiles of the distribution. For example, the median corresponds to the value at which the CDF is 0.5.\n",
    "\n",
    "Comparing Distributions: The CDF is useful for comparing different probability distributions and understanding how they differ.\n",
    "\n",
    "Making Inferences: The CDF can be used for making probabilistic inferences, such as calculating the probability of an event occurring within a certain range"
   ]
  },
  {
   "cell_type": "raw",
   "id": "11bdb306",
   "metadata": {},
   "source": [
    "Q3: What are some examples of situations where the normal distribution might be used as a model? Explain how the parameters of the normal distribution relate to the shape of the distribution.\n",
    "\n",
    "some examples of situations where the normal distribution might be used as a model:\n",
    "\n",
    "Height of Individuals: The heights of adult individuals in a population often follow a normal distribution. Most people cluster around the average height, creating a bell-shaped curve.\n",
    "\n",
    "Weight of Objects: The weights of objects, such as fruits, animals, or manufactured products, can often be approximated using a normal distribution.\n",
    "\n",
    "Measurement Errors: When measuring quantities like length, temperature, or time, random measurement errors can lead to a normal distribution of values around the true value.\n",
    "\n",
    "IQ Scores: Intelligence quotient (IQ) scores in a population tend to follow a normal distribution, with the majority of scores clustered around the average IQ.\n",
    "\n",
    "The parameters of the normal distribution are the mean (μ) and the standard deviation (σ). These parameters determine the shape of the distribution:\n",
    "\n",
    "Mean (μ): The mean determines the center of the distribution. It is the point where the distribution is symmetrically balanced. It's also the point of maximum likelihood.\n",
    "\n",
    "Standard Deviation (σ): The standard deviation controls the spread or variability of the distribution. Larger values of σ lead to wider distributions, while smaller values lead to narrower distributions.\n"
   ]
  },
  {
   "cell_type": "raw",
   "id": "9aaaca7f",
   "metadata": {},
   "source": [
    "Q4: Explain the importance of Normal Distribution. Give a few real-life examples of Normal Distribution.\n",
    "\n",
    "The Normal Distribution, also known as the Gaussian distribution, plays a crucial role in various fields of science, statistics, and data analysis due to its unique properties and widespread applicability. Its importance lies in its ability to describe and model many natural phenomena and data distributions accurately. Here are some key reasons for the importance of the Normal Distribution:\n",
    "\n",
    "Central Limit Theorem: The Central Limit Theorem, states that the sum or average of a large number of independent and identically distributed random variables tends to follow a Normal Distribution, regardless of the original distribution. This theorem forms the basis for many statistical inferences and hypothesis tests.\n",
    "\n",
    "Data Modeling: The Normal Distribution provides an excellent approximation for a wide range of real-world data distributions. Many phenomena, when observed on a large scale or influenced by multiple factors, tend to exhibit a normal-like distribution.\n",
    "\n",
    "Statistical Inference: Many statistical methods and hypothesis tests assume that the data follows a Normal Distribution. This simplifies calculations and makes interpretations more reliable.\n",
    "\n",
    "Probability Calculations: The properties of the Normal Distribution make it mathematically tractable for performing calculations related to probabilities, confidence intervals, and hypothesis testing.\n",
    "\n",
    "\n",
    "Examples of Real-Life Normal Distribution:\n",
    "\n",
    "Height Distribution: The heights of individuals in a population tend to follow a Normal Distribution. Most people are clustered around the average height, with fewer extremely tall or short individuals.\n",
    "\n",
    "Temperature Data: Daily temperature measurements, whether local or global, often exhibit a Normal Distribution over time.\n",
    "\n",
    "Error Distributions: In fields like engineering and scientific research, measurement errors and noise often follow a Normal Distribution.\n",
    "\n",
    "Exam Scores: Scores on standardized tests like the SAT or GRE are often modeled using a Normal Distribution."
   ]
  },
  {
   "cell_type": "raw",
   "id": "866b2200",
   "metadata": {},
   "source": [
    "Q5: What is Bernaulli Distribution? Give an Example. What is the difference between Bernoulli Distribution and Binomial Distribution?\n",
    "\n",
    "The Bernoulli Distribution is a discrete probability distribution that models a random experiment with two possible outcomes: success (usually denoted as \"1\") and failure (usually denoted as \"0\"). It is used when dealing with a single trial or experiment that has a binary outcome.\n",
    "\n",
    "The probability mass function (PMF) of the Bernoulli Distribution is defined as follows:\n",
    "P(X = 1) = p (probability of success)\n",
    "P(X = 0) = 1 - p (probability of failure)\n",
    "\n",
    "Example:\n",
    "Consider flipping a fair coin.\n",
    "\n",
    "\n",
    "Difference between Bernoulli and Binomial Distribution:\n",
    "The Bernoulli Distribution and the Binomial Distribution are closely related, but they apply to different scenarios:\n",
    "\n",
    "Number of Trials:\n",
    "\n",
    "Bernoulli Distribution: Applies to a single trial or experiment with two outcomes (success or failure).\n",
    "Binomial Distribution: Applies to a fixed number of independent trials or experiments, each with two outcomes (success or failure).\n",
    "\n",
    "Number of Successes:\n",
    "\n",
    "Bernoulli Distribution: Models the outcome of a single trial, so it has only one parameter (probability of success).\n",
    "Binomial Distribution: Models the number of successes in \"n\" independent trials, so it has two parameters (number of trials \"n\" and probability of success \"p\").\n",
    "\n",
    "Probability Mass Function (PMF):\n",
    "\n",
    "Bernoulli Distribution: Has a simple PMF with two values (probability of success and probability of failure).\n",
    "Binomial Distribution: Has a more complex PMF that calculates the probability of getting \"k\" successes in \"n\" trials.\n",
    "\n",
    "Example:\n",
    "\n",
    "Bernoulli Distribution: Flipping a single coin.\n",
    "Binomial Distribution: Flipping a coin \"n\" times and calculating the probability of getting exactly \"k\" heads."
   ]
  },
  {
   "cell_type": "raw",
   "id": "1cba9fb6",
   "metadata": {},
   "source": [
    "Q6. Consider a dataset with a mean of 50 and a standard deviation of 10. If we assume that the dataset is normally distributed, what is the probability that a randomly selected observation will be greater than 60? Use the appropriate formula and show your calculations.\n",
    "\n",
    "Calculate the Z-score:\n",
    "Z = (60-50)/10 = 1\n",
    "\n",
    "Using the standard normal distribution table to find the probability associated with Z = 1. The probability represents the area under the standard normal curve to the right of Z = 1\n",
    "\n",
    "Using a standard normal distribution table or calculator, you would find that the probability associated with Z = 1  is approximately 0.8413.\n",
    "\n",
    "Therefore, the probability that a randomly selected observation from the given dataset will be greater than 60 is approximately 0.8413, or 84.13%.\n",
    "\n",
    "\n",
    "\n",
    "\n"
   ]
  },
  {
   "cell_type": "raw",
   "id": "4ab5c8c7",
   "metadata": {},
   "source": [
    "Q7: Explain uniform Distribution with an example.\n",
    "    \n",
    "    \n",
    "The Uniform Distribution is a probability distribution that describes a situation where all outcomes in a given range are equally likely to occur. In other words, the probability of any specific value within the range is the same, resulting in a constant probability density throughout the interval.\n",
    "\n",
    "Example:\n",
    "Imagine rolling a fair six-sided die"
   ]
  },
  {
   "cell_type": "raw",
   "id": "a25a46be",
   "metadata": {},
   "source": [
    "Q8: What is the z score? State the importance of the z score.\n",
    "    \n",
    "The Z-score, also known as the standard score, is a statistical measurement that quantifies the number of standard deviations a data point is from the mean of a dataset. It is used to standardize and compare data points from different distributions.\n",
    "\n",
    "The Z-score has several important uses and significance:\n",
    "\n",
    "Standardization and Comparison: The Z-score transforms data into a standard scale, allowing for comparison between data points from different distributions. It provides a common measure of how far a data point is from the mean in terms of standard deviations.\n",
    "\n",
    "Identifying Outliers: Data points with high or low Z-scores (far from the mean) can be considered outliers. Outliers may indicate data entry errors, anomalies, or important information about the dataset.\n",
    "\n",
    "Normal Distribution Analysis: In a standard normal distribution (mean = 0, standard deviation = 1), the Z-score directly corresponds to the percentile rank. A Z-score of 1 corresponds to approximately the 84th percentile, indicating that the data point is higher than about 84% of the data.\n",
    "\n",
    "Probability Calculation: Z-scores are used to calculate probabilities in the standard normal distribution. The area under the curve to the left or right of a Z-score corresponds to the probability of observing a value within a certain range."
   ]
  },
  {
   "cell_type": "raw",
   "id": "134a9ef5",
   "metadata": {},
   "source": [
    "Q9: What is Central Limit Theorem? State the significance of the Central Limit Theorem.\n",
    "\n",
    "The Central Limit Theorem (CLT) is a fundamental statistical principle that states that the distribution of the sample means of a sufficiently large number of independent, identically distributed random variables will be approximately normal, regardless of the original distribution of the individual variables. \n",
    "\n",
    "Significance of the Central Limit Theorem:\n",
    "\n",
    "Statistical Inference: The Central Limit Theorem is the foundation for many statistical methods and hypothesis tests. It enables the use of normal distribution-based methods even when the population distribution is not normal.\n",
    "\n",
    "Population Estimation: The theorem allows us to estimate population parameters (mean, variance) using sample statistics and confidently make inferences about the population.\n",
    "\n",
    "Sampling Distribution: The Central Limit Theorem explains why the sample mean distribution tends to be normal, even for non-normal populations. This property facilitates probability calculations and confidence interval estimation.\n",
    "\n",
    "Real-World Applications: In practice, many real-world phenomena involve the sum or average of multiple random factors. The Central Limit Theorem's assurance of a normal-like distribution simplifies analyses in such cases."
   ]
  },
  {
   "cell_type": "code",
   "execution_count": null,
   "id": "067cee4f",
   "metadata": {},
   "outputs": [],
   "source": [
    "Q10: State the assumptions of the Central Limit Theorem."
   ]
  }
 ],
 "metadata": {
  "kernelspec": {
   "display_name": "Python 3 (ipykernel)",
   "language": "python",
   "name": "python3"
  },
  "language_info": {
   "codemirror_mode": {
    "name": "ipython",
    "version": 3
   },
   "file_extension": ".py",
   "mimetype": "text/x-python",
   "name": "python",
   "nbconvert_exporter": "python",
   "pygments_lexer": "ipython3",
   "version": "3.9.13"
  },
  "toc": {
   "base_numbering": 1,
   "nav_menu": {},
   "number_sections": true,
   "sideBar": true,
   "skip_h1_title": false,
   "title_cell": "Table of Contents",
   "title_sidebar": "Contents",
   "toc_cell": false,
   "toc_position": {},
   "toc_section_display": true,
   "toc_window_display": false
  }
 },
 "nbformat": 4,
 "nbformat_minor": 5
}
