{
 "cells": [
  {
   "cell_type": "markdown",
   "id": "edcbfd4e",
   "metadata": {},
   "source": [
    "# Q1. How do you comment code in Python? What are the different types of comments?\n",
    "In Python, we can add comments to our code to provide explanations or notes that are not executed as part of the program.\n",
    "Comments help improve code readability and make it easier for others to understand the code's purpose. There are two types of comments in Python:\n",
    "\n",
    "Single-line comments:\n",
    "To create a single-line comment, use the '#' symbol. Anything after the '#' on the same line will be considered a comment and will not be executed by Python.\n",
    "\n",
    "Multi-line comments (docstrings):\n",
    "To create multi-line comments or docstrings (used for documentation purposes), you can use triple quotes (''' or \"\"\") to enclose the comment text. Triple quotes can span multiple lines and are used primarily for documenting functions, classes, and modules."
   ]
  },
  {
   "cell_type": "markdown",
   "id": "c8e0c95f",
   "metadata": {},
   "source": [
    "# Q2. What are variables in Python? How do you declare and assign values to variables?\n",
    "In Python, a variable is a name that refers to a value stored in memory. Variables are used to store data that can be manipulated and accessed during the program's execution. They act as containers to hold different types of data, such as numbers, strings, lists, dictionaries, and more.\n",
    "\n",
    "Declaring and assigning values to variables in Python\n",
    "\n",
    "Declaration and Assignment in a Single Line:\n",
    "We can declare and assign a value to a variable in a single line using the assignment operator ('=').\n",
    "\n",
    "Multiple Assignments in a Single Line:\n",
    "We can assign multiple variables at once using a single line. This is known as multiple assignment."
   ]
  },
  {
   "cell_type": "markdown",
   "id": "5875cbe9",
   "metadata": {},
   "source": [
    "# Q3. How do you convert one data type to another in Python?\n",
    "\n",
    "In Python, we can convert one data type to another using type conversion functions or constructors. Python provides several built-in functions to perform these conversions. Here are some common type conversion functions:\n",
    "\n",
    "int(): Convert a value to an integer data type.\n",
    "float(): Convert a value to a floating-point data type.\n",
    "str(): Convert a value to a string data type.\n",
    "bool(): Convert a value to a boolean data type."
   ]
  },
  {
   "cell_type": "markdown",
   "id": "f670e666",
   "metadata": {},
   "source": [
    "# Q4. How do you write and execute a Python script from the command line?\n",
    "\n",
    "To write and execute a Python script from the command line, follow these steps:\n",
    "\n",
    "Open a text editor (such as Notepad, Visual Studio Code, or any other text editor.).\n",
    "\n",
    "Write Python code in the text editor and save the file with a .py extension. For example, we can save the script as my_script.py.\n",
    "\n",
    "Executing a Python Script:\n",
    "\n",
    "Open the command-line terminal on the computer\n",
    "\n",
    "Navigate to the directory where the Python script is located using the cd command.\n",
    "\n",
    "To execute the python file write command \"python my_script.py\" and press enter.\n",
    "\n",
    "We can see the output on the window\n"
   ]
  },
  {
   "cell_type": "code",
   "execution_count": 3,
   "id": "92611ecf",
   "metadata": {},
   "outputs": [
    {
     "data": {
      "text/plain": [
       "[2, 3]"
      ]
     },
     "execution_count": 3,
     "metadata": {},
     "output_type": "execute_result"
    }
   ],
   "source": [
    "# Q5. Given a list my_list = [1, 2, 3, 4, 5], write the code to slice the list and obtain the sub-list [2,3].\n",
    "my_list = [1, 2, 3, 4, 5]\n",
    "my_list[1:3]\n"
   ]
  },
  {
   "cell_type": "markdown",
   "id": "aeb857a9",
   "metadata": {},
   "source": [
    "# Q6. What is a complex number in mathematics, and how is it represented in Python?\n",
    "In mathematics, a complex number is a number that consists of both a real part and an imaginary part. It is represented in the form 'a + bi', where 'a' is the real part, 'b' is the imaginary part, and 'i' is the imaginary unit, defined as the square root of -1.\n",
    "\n",
    "In Python, complex numbers are represented using the built-in complex data type. The imaginary unit \"i\" is represented by the letter \"j\" in Python. Complex numbers have both a real part and an imaginary part, and they are created using the syntax: \"real + imagj\", where \"real\" is the real part and \"imag\" is the imaginary part."
   ]
  },
  {
   "cell_type": "code",
   "execution_count": 5,
   "id": "e5630d73",
   "metadata": {},
   "outputs": [],
   "source": [
    "# Q7. What is the correct way to declare a variable named age and assign the value 25 to it?\n",
    "\n",
    "# Declairing a vairable in python is simple as compaired to other programming language. Here we just need to prepare a variable and insert the value, we doesn't need to specify variable type.\n",
    "\n",
    "age = 25"
   ]
  },
  {
   "cell_type": "code",
   "execution_count": 6,
   "id": "ed8fb940",
   "metadata": {},
   "outputs": [],
   "source": [
    "# Q8. Declare a variable named price and assign the value 9.99 to it. What data type does this variable belong to?\n",
    "\n",
    "price = 9.99\n",
    "\n",
    "#  This is a float type of variable\n"
   ]
  },
  {
   "cell_type": "code",
   "execution_count": 8,
   "id": "3d89b63b",
   "metadata": {},
   "outputs": [
    {
     "name": "stdout",
     "output_type": "stream",
     "text": [
      "A\n",
      "s\n",
      "h\n",
      "i\n",
      "s\n",
      "h\n",
      " \n",
      "K\n",
      "u\n",
      "m\n",
      "a\n",
      "r\n",
      "Ashish Kumar\n"
     ]
    }
   ],
   "source": [
    "# Q9. Create a variable named name and assign your full name to it as a string. How would you print the value of this variable?\n",
    "\n",
    "name = \"Ashish Kumar\"\n",
    "\n",
    "#  There are various ways of extracting values from this string, some of them are :\n",
    "\n",
    "#  Using a loop\n",
    "\n",
    "for i in name:\n",
    "    print(i)\n",
    "\n",
    "#  simply calling the variable\n",
    "\n",
    "print(name)"
   ]
  },
  {
   "cell_type": "code",
   "execution_count": 10,
   "id": "2ec323d0",
   "metadata": {},
   "outputs": [
    {
     "name": "stdout",
     "output_type": "stream",
     "text": [
      "World\n"
     ]
    }
   ],
   "source": [
    "# Q10. Given the string \"Hello, World!\", extract the substring \"World\".\n",
    "\n",
    "string = \"Hello, World!\"\n",
    "\n",
    "print(string[7:12])"
   ]
  },
  {
   "cell_type": "code",
   "execution_count": 11,
   "id": "62c0001f",
   "metadata": {},
   "outputs": [
    {
     "name": "stdout",
     "output_type": "stream",
     "text": [
      "0\n"
     ]
    }
   ],
   "source": [
    "\"\"\"Q11. Create a variable named \"is_student\" and assign it a boolean value indicating whether you are\n",
    "currently a student or not.\"\"\"\n",
    "\n",
    "is_student = 0\n",
    "print(is_student)"
   ]
  },
  {
   "cell_type": "code",
   "execution_count": null,
   "id": "1add27e2",
   "metadata": {},
   "outputs": [],
   "source": []
  }
 ],
 "metadata": {
  "kernelspec": {
   "display_name": "Python 3 (ipykernel)",
   "language": "python",
   "name": "python3"
  },
  "language_info": {
   "codemirror_mode": {
    "name": "ipython",
    "version": 3
   },
   "file_extension": ".py",
   "mimetype": "text/x-python",
   "name": "python",
   "nbconvert_exporter": "python",
   "pygments_lexer": "ipython3",
   "version": "3.9.13"
  },
  "toc": {
   "base_numbering": 1,
   "nav_menu": {},
   "number_sections": true,
   "sideBar": true,
   "skip_h1_title": false,
   "title_cell": "Table of Contents",
   "title_sidebar": "Contents",
   "toc_cell": false,
   "toc_position": {},
   "toc_section_display": true,
   "toc_window_display": false
  }
 },
 "nbformat": 4,
 "nbformat_minor": 5
}
