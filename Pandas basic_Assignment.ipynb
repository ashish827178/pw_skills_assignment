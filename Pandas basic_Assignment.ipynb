{
 "cells": [
  {
   "cell_type": "code",
   "execution_count": 4,
   "id": "3458f4eb",
   "metadata": {},
   "outputs": [
    {
     "name": "stdout",
     "output_type": "stream",
     "text": [
      "0     4\n",
      "1     8\n",
      "2    15\n",
      "3    16\n",
      "4    23\n",
      "5    42\n",
      "dtype: int64\n"
     ]
    }
   ],
   "source": [
    "# Q1. Create a Pandas Series that contains the following data: 4, 8, 15, 16, 23, and 42. Then, print the series.\n",
    "\n",
    "import pandas as pd\n",
    "df = pd.Series([4,8,15,16,23,42])\n",
    "print(df)"
   ]
  },
  {
   "cell_type": "code",
   "execution_count": 8,
   "id": "1a3f1e2f",
   "metadata": {},
   "outputs": [
    {
     "name": "stdout",
     "output_type": "stream",
     "text": [
      "0    0\n",
      "1    1\n",
      "2    2\n",
      "3    3\n",
      "4    4\n",
      "5    5\n",
      "6    6\n",
      "7    7\n",
      "8    8\n",
      "9    9\n",
      "dtype: int64\n"
     ]
    }
   ],
   "source": [
    "\"\"\"Q2. Create a variable of list type containing 10 elements in it, and apply pandas.Series function on the\n",
    "variable print it.\"\"\"\n",
    "\n",
    "lst = [x for x in range(10)]\n",
    "df = pd.Series(lst)\n",
    "print(df)"
   ]
  },
  {
   "cell_type": "code",
   "execution_count": 17,
   "id": "cb75fa64",
   "metadata": {},
   "outputs": [
    {
     "data": {
      "text/html": [
       "<div>\n",
       "<style scoped>\n",
       "    .dataframe tbody tr th:only-of-type {\n",
       "        vertical-align: middle;\n",
       "    }\n",
       "\n",
       "    .dataframe tbody tr th {\n",
       "        vertical-align: top;\n",
       "    }\n",
       "\n",
       "    .dataframe thead th {\n",
       "        text-align: right;\n",
       "    }\n",
       "</style>\n",
       "<table border=\"1\" class=\"dataframe\">\n",
       "  <thead>\n",
       "    <tr style=\"text-align: right;\">\n",
       "      <th></th>\n",
       "      <th>Name</th>\n",
       "      <th>Age</th>\n",
       "      <th>Gender</th>\n",
       "    </tr>\n",
       "  </thead>\n",
       "  <tbody>\n",
       "    <tr>\n",
       "      <th>0</th>\n",
       "      <td>Alice</td>\n",
       "      <td>25</td>\n",
       "      <td>Female</td>\n",
       "    </tr>\n",
       "    <tr>\n",
       "      <th>1</th>\n",
       "      <td>Bob</td>\n",
       "      <td>30</td>\n",
       "      <td>Male</td>\n",
       "    </tr>\n",
       "    <tr>\n",
       "      <th>2</th>\n",
       "      <td>Claire</td>\n",
       "      <td>27</td>\n",
       "      <td>Female</td>\n",
       "    </tr>\n",
       "  </tbody>\n",
       "</table>\n",
       "</div>"
      ],
      "text/plain": [
       "     Name  Age  Gender\n",
       "0   Alice   25  Female\n",
       "1     Bob   30    Male\n",
       "2  Claire   27  Female"
      ]
     },
     "execution_count": 17,
     "metadata": {},
     "output_type": "execute_result"
    }
   ],
   "source": [
    "# Q3. Create a Pandas DataFrame that contains the following data:\n",
    "data = {\n",
    "'Name' : [\"Alice\",\"Bob\",\"Claire\"],\n",
    "'Age' : [25,30,27],\n",
    "'Gender' : [\"Female\",\"Male\",\"Female\"]\n",
    "}\n",
    "df = pd.DataFrame(data)\n",
    "df"
   ]
  },
  {
   "cell_type": "raw",
   "id": "4a4b80a0",
   "metadata": {},
   "source": [
    "# Q4. What is ‘DataFrame’ in pandas and how is it different from pandas.series? Explain with an example.\n",
    "\n",
    "A DataFrame in Pandas is a two-dimensional labeled data structure that resembles a table, where each column can have a different data type. It is one of the fundamental data structures provided by the Pandas library, and it allows us to store and manipulate data in a tabular form. A DataFrame can be thought of as a collection of Pandas Series, where each Series represents a column of the DataFrame.\n",
    "\n",
    "A Pandas Series, on the other hand, is a one-dimensional labeled array that can hold data of any type. It can be considered as a single column of data with an associated label, called the index.\n",
    "\n",
    "Difference between DataFrame and Pandas Series:\n",
    "\n",
    "Dimensionality: A DataFrame is a two-dimensional structure with both rows and columns, while a Pandas Series is a one-dimensional structure representing a single column or data array.\n",
    "\n",
    "Data Representation: In a DataFrame, we have multiple columns, and each column can have a different data type. In a Pandas Series, we have a single column with a consistent data type.\n",
    "\n",
    "Indexing: DataFrames have both row and column indices, while Series have only a single index (row index).\n",
    "\n",
    "Operations: Many operations that we can perform on a DataFrame can also be applied to a Series, but DataFrame operations often involve manipulating entire columns or rows, whereas Series operations are more focused on the data within a single column.\n",
    "\n",
    "\n"
   ]
  },
  {
   "cell_type": "code",
   "execution_count": 18,
   "id": "0f24f6a9",
   "metadata": {},
   "outputs": [
    {
     "name": "stdout",
     "output_type": "stream",
     "text": [
      "DataFrame:\n",
      "      Name  Age\n",
      "0    Alice   25\n",
      "1      Bob   30\n",
      "2  Charlie   22\n",
      "\n",
      "Series:\n",
      "0    25\n",
      "1    30\n",
      "2    22\n",
      "Name: Age, dtype: int64\n"
     ]
    }
   ],
   "source": [
    "# Example\n",
    "\n",
    "import pandas as pd\n",
    "\n",
    "# Creating a DataFrame\n",
    "data = {\n",
    "    'Name': ['Alice', 'Bob', 'Charlie'],\n",
    "    'Age': [25, 30, 22]\n",
    "}\n",
    "df = pd.DataFrame(data)\n",
    "\n",
    "# Creating a Pandas Series\n",
    "ages = pd.Series([25, 30, 22], name='Age')\n",
    "\n",
    "print(\"DataFrame:\")\n",
    "print(df)\n",
    "print(\"\\nSeries:\")\n",
    "print(ages)\n"
   ]
  },
  {
   "cell_type": "raw",
   "id": "c40a5b00",
   "metadata": {},
   "source": [
    "\"\"\"Q5. What are some common functions you can use to manipulate data in a Pandas DataFrame? Can you give an example of when you might use one of these functions?\"\"\"\n",
    "\n",
    "Pandas provides a wide range of functions to manipulate data within a DataFrame. Here are some common functions you can use to manipulate data in a Pandas DataFrame, along with examples:\n",
    "\n",
    "head() and tail(): These functions allow us to view the first few rows (head()) or the last few rows (tail()) of the DataFrame.\n",
    "\n",
    "describe(): This function provides summary statistics of numeric columns in the DataFrame, such as mean, standard deviation, minimum, maximum, etc.\n",
    "\n",
    "sort_values(): This function allows us to sort the DataFrame by one or more columns.\n",
    "\n",
    "groupby(): This function is used for grouping data based on one or more columns and applying aggregate functions.\n",
    "\n",
    "filter(): This function is used to filter rows based on a condition\n",
    "\n",
    "apply(): This function applies a function to each element or column of the DataFrame\n",
    "\n",
    "drop(): This function is used to remove rows or columns from the DataFrame."
   ]
  },
  {
   "cell_type": "raw",
   "id": "e196a425",
   "metadata": {},
   "source": [
    "# Q6. Which of the following is mutable in nature Series, DataFrame, Panel?\n",
    "\n",
    "A mutable object is one that can be modified after its creation. In the case of a DataFrame, we can add, remove, or modify columns and rows, change data values, and perform various other operations that alter its structure and content. This mutability is a fundamental feature of DataFrames in Pandas and makes them versatile for data manipulation tasks.\n",
    "\n",
    "On the other hand, both Series and Panel are immutable in nature. Once they are created, their content cannot be modified directly. Instead, if we want to make changes, we usually create new instances of Series or Panel with the desired modifications."
   ]
  },
  {
   "cell_type": "code",
   "execution_count": null,
   "id": "39243bf7",
   "metadata": {},
   "outputs": [],
   "source": [
    "# Q7. Create a DataFrame using multiple Series. Explain with an example.\n",
    "\n"
   ]
  }
 ],
 "metadata": {
  "kernelspec": {
   "display_name": "Python 3 (ipykernel)",
   "language": "python",
   "name": "python3"
  },
  "language_info": {
   "codemirror_mode": {
    "name": "ipython",
    "version": 3
   },
   "file_extension": ".py",
   "mimetype": "text/x-python",
   "name": "python",
   "nbconvert_exporter": "python",
   "pygments_lexer": "ipython3",
   "version": "3.9.13"
  },
  "toc": {
   "base_numbering": 1,
   "nav_menu": {},
   "number_sections": true,
   "sideBar": true,
   "skip_h1_title": false,
   "title_cell": "Table of Contents",
   "title_sidebar": "Contents",
   "toc_cell": false,
   "toc_position": {},
   "toc_section_display": true,
   "toc_window_display": false
  }
 },
 "nbformat": 4,
 "nbformat_minor": 5
}
