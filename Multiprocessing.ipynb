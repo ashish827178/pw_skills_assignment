{
 "cells": [
  {
   "cell_type": "raw",
   "id": "c51856b9",
   "metadata": {},
   "source": [
    "\n",
    "Q1. What is multiprocessing in Python? Why is it useful?\n",
    "\n",
    "Multiprocessing in Python refers to the ability of a program to create and run multiple processes concurrently. Each process runs independently and can utilize multiple CPU cores, enabling parallel execution of tasks. Multiprocessing is useful for improving the performance of CPU-bound tasks and taking advantage of modern multi-core processors."
   ]
  },
  {
   "cell_type": "raw",
   "id": "6389ba4c",
   "metadata": {},
   "source": [
    "Q2. What are the differences between multiprocessing and multithreading?\n",
    "\n",
    "Multiprocessing involves running multiple processes concurrently, each with its own memory space, while multithreading involves running multiple threads within the same process, sharing the same memory space.\n",
    "Processes in multiprocessing are more isolated and can avoid issues like race conditions, but they have higher memory overhead compared to threads.\n",
    "Multithreading is more suitable for I/O-bound tasks where threads can perform other tasks while waiting for I/O operations, while multiprocessing is more suitable for CPU-bound tasks that can benefit from parallel processing."
   ]
  },
  {
   "cell_type": "raw",
   "id": "1e78e27a",
   "metadata": {},
   "source": [
    "Q3. Write a Python code to create a process using the multiprocessing module."
   ]
  },
  {
   "cell_type": "code",
   "execution_count": null,
   "id": "abb7a079",
   "metadata": {},
   "outputs": [],
   "source": [
    "import multiprocessing\n",
    "\n",
    "def worker(num):\n",
    "    print(f\"Worker {num} is running\")\n",
    "\n",
    "if __name__ == \"__main__\":\n",
    "    p = multiprocessing.Process(target=worker, args=(1,))\n",
    "    p.start()\n",
    "    p.join()\n"
   ]
  },
  {
   "cell_type": "raw",
   "id": "1c2c174c",
   "metadata": {},
   "source": [
    "Q4. What is a multiprocessing pool in Python? Why is it used?\n",
    "\n",
    "A multiprocessing pool in Python is a way to create a pool of worker processes that can execute tasks asynchronously. It is used to parallelize the execution of a function across multiple input values. The pool manages the creation and management of worker processes, allowing the programmer to focus on the task logic rather than the process management."
   ]
  },
  {
   "cell_type": "raw",
   "id": "316eb332",
   "metadata": {},
   "source": [
    "Q5. How can we create a pool of worker processes in Python using the multiprocessing module?"
   ]
  },
  {
   "cell_type": "code",
   "execution_count": null,
   "id": "814c0ded",
   "metadata": {},
   "outputs": [],
   "source": [
    "import multiprocessing\n",
    "\n",
    "def worker(num):\n",
    "    return num*num\n",
    "\n",
    "if __name__ == \"__main__\":\n",
    "    with multiprocessing.Pool(processes=4) as pool:\n",
    "        results = pool.map(worker, [1, 2, 3, 4])\n",
    "        print(results)\n"
   ]
  },
  {
   "cell_type": "raw",
   "id": "969c006e",
   "metadata": {},
   "source": [
    "Q6. Write a Python program to create 4 processes, each process should print a different number using the multiprocessing module in Python."
   ]
  },
  {
   "cell_type": "code",
   "execution_count": null,
   "id": "26ccde21",
   "metadata": {},
   "outputs": [],
   "source": [
    "import multiprocessing\n",
    "\n",
    "def print_number(num):\n",
    "    print(f\"Process {num}: {num}\")\n",
    "\n",
    "if __name__ == \"__main__\":\n",
    "    processes = []\n",
    "    for i in range(4):\n",
    "        p = multiprocessing.Process(target=print_number, args=(i,))\n",
    "        processes.append(p)\n",
    "        p.start()\n",
    "\n",
    "    for p in processes:\n",
    "        p.join()\n"
   ]
  },
  {
   "cell_type": "code",
   "execution_count": null,
   "id": "3ba9b436",
   "metadata": {},
   "outputs": [],
   "source": []
  }
 ],
 "metadata": {
  "kernelspec": {
   "display_name": "Python 3 (ipykernel)",
   "language": "python",
   "name": "python3"
  },
  "language_info": {
   "codemirror_mode": {
    "name": "ipython",
    "version": 3
   },
   "file_extension": ".py",
   "mimetype": "text/x-python",
   "name": "python",
   "nbconvert_exporter": "python",
   "pygments_lexer": "ipython3",
   "version": "3.9.13"
  },
  "toc": {
   "base_numbering": 1,
   "nav_menu": {},
   "number_sections": true,
   "sideBar": true,
   "skip_h1_title": false,
   "title_cell": "Table of Contents",
   "title_sidebar": "Contents",
   "toc_cell": false,
   "toc_position": {},
   "toc_section_display": true,
   "toc_window_display": false
  }
 },
 "nbformat": 4,
 "nbformat_minor": 5
}
