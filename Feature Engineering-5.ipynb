{
 "cells": [
  {
   "cell_type": "raw",
   "id": "9381be87",
   "metadata": {},
   "source": [
    "Q1. What is the difference between Ordinal Encoding and Label Encoding? Provide an example of when you might choose one over the other.\n",
    "\n",
    "Answer: Ordinal Encoding and Label Encoding are both techniques for converting categorical data into numerical form. The key difference is in the nature of the categorical data:\n",
    "\n",
    "Label Encoding: This is used when the categorical data has no inherent order or ranking. It assigns a unique numerical label to each category. For example, if we have colors (red, green, blue), we might assign them labels (0, 1, 2). It's suitable when the categories are nominal.\n",
    "\n",
    "Ordinal Encoding: This is used when the categorical data has a clear order or rank. It assigns numerical values to categories based on their rank or order. For example, in a survey response scale (low, medium, high), you might assign values (1, 2, 3). It's suitable when the categories have a meaningful order.\n",
    "\n",
    "Choosing between them depends on whether the categorical data has a meaningful order (use Ordinal Encoding) or not (use Label Encoding)."
   ]
  },
  {
   "cell_type": "raw",
   "id": "de050967",
   "metadata": {},
   "source": [
    "Q2. Explain how Target Guided Ordinal Encoding works and provide an example of when you might use it in a machine learning project.\n",
    "\n",
    "Answer: Target Guided Ordinal Encoding is a technique used for ordinal categorical variables when the encoding is guided by the target variable. Here's how it works:\n",
    "\n",
    "For each category within the ordinal variable, it calculates the mean of the target variable (usually the success rate or probability of the target variable being 1).\n",
    "It then assigns ranks or labels to the categories based on these means. Categories with higher means get higher ranks.\n",
    "We can use this technique when you have an ordinal variable like \"Education Level\" (e.g., \"High School,\" \"Bachelor's,\" \"Master's,\" \"Ph.D.\"), and we want to encode it based on its correlation with the target variable (e.g., predicting income levels). It helps capture the ordinal relationship between education levels and the target variable."
   ]
  },
  {
   "cell_type": "raw",
   "id": "e0453f05",
   "metadata": {},
   "source": [
    "Q3. Define covariance and explain why it is important in statistical analysis. How is covariance calculated?\n",
    "\n",
    "Answer: Covariance measures the degree to which two random variables change together. In statistical analysis:\n",
    "\n",
    "A positive covariance indicates that when one variable goes up, the other tends to go up as well.\n",
    "A negative covariance indicates that when one variable goes up, the other tends to go down.\n",
    "A covariance close to zero suggests that there is little to no linear relationship between the variables.\n",
    "Covariance is important because it helps us understand the relationship between two variables. However, it has a limitation—it's not scaled and can be challenging to interpret directly. Therefore, it's often used in conjunction with correlation, which is a scaled version of covariance that ranges between -1 and 1.\n",
    "\n"
   ]
  },
  {
   "cell_type": "code",
   "execution_count": 1,
   "id": "4879eb84",
   "metadata": {},
   "outputs": [
    {
     "name": "stdout",
     "output_type": "stream",
     "text": [
      "   Color_encoded  Size_encoded  Material_encoded\n",
      "0              2             1                 2\n",
      "1              1             2                 0\n",
      "2              0             0                 1\n",
      "3              1             1                 0\n",
      "4              2             2                 1\n"
     ]
    }
   ],
   "source": [
    "\"\"\"Q4. For a dataset with the following categorical variables: Color \n",
    "(red, green, blue), Size (small, medium, large), and Material (wood, \n",
    "metal, plastic), perform label encoding using Python's scikit-learn library. \n",
    "Show your code and explain the output.\"\"\"\n",
    "\n",
    "from sklearn.preprocessing import LabelEncoder\n",
    "import pandas as pd\n",
    "\n",
    "# Sample data\n",
    "data = {\n",
    "    'Color': ['red', 'green', 'blue', 'green', 'red'],\n",
    "    'Size': ['medium', 'small', 'large', 'medium', 'small'],\n",
    "    'Material': ['wood', 'metal', 'plastic', 'metal', 'plastic']\n",
    "}\n",
    "\n",
    "# Create a DataFrame\n",
    "df = pd.DataFrame(data)\n",
    "\n",
    "# Initialize LabelEncoder\n",
    "label_encoder = LabelEncoder()\n",
    "\n",
    "# Apply LabelEncoder to each categorical column\n",
    "df['Color_encoded'] = label_encoder.fit_transform(df['Color'])\n",
    "df['Size_encoded'] = label_encoder.fit_transform(df['Size'])\n",
    "df['Material_encoded'] = label_encoder.fit_transform(df['Material'])\n",
    "\n",
    "# Drop the original categorical columns\n",
    "df.drop(['Color', 'Size', 'Material'], axis=1, inplace=True)\n",
    "\n",
    "# Now, 'Color_encoded', 'Size_encoded', and 'Material_encoded' columns contain the encoded data\n",
    "print(df)\n"
   ]
  },
  {
   "cell_type": "code",
   "execution_count": 2,
   "id": "d426bc74",
   "metadata": {},
   "outputs": [
    {
     "name": "stdout",
     "output_type": "stream",
     "text": [
      "[[3.53e+01 3.53e+04 7.50e+00]\n",
      " [3.53e+04 3.53e+07 7.50e+03]\n",
      " [7.50e+00 7.50e+03 5.00e+00]]\n"
     ]
    }
   ],
   "source": [
    "\"\"\"Q5. Calculate the covariance matrix for the following variables in a \n",
    "dataset: Age, Income, and Education level. Interpret the results.\n",
    "\"\"\"\n",
    "\n",
    "import numpy as np\n",
    "\n",
    "# Create a dataset or provide values for Age, Income, and Education Level\n",
    "age = [30, 40, 25, 35, 28]\n",
    "income = [50000, 60000, 45000, 55000, 48000]\n",
    "education_level = [12, 16, 14, 18, 15]\n",
    "\n",
    "# Create a data matrix\n",
    "data_matrix = np.array([age, income, education_level])\n",
    "\n",
    "# Calculate the covariance matrix\n",
    "covariance_matrix = np.cov(data_matrix)\n",
    "\n",
    "# Print the covariance matrix\n",
    "print(covariance_matrix)\n"
   ]
  },
  {
   "cell_type": "raw",
   "id": "6012d110",
   "metadata": {},
   "source": [
    "Q6. You are working on a machine learning project with a dataset containing several categorical variables, including \"Gender\" (Male/Female), \"Education Level\" (High School/Bachelor's/Master's/PhD), and \"Employment Status\" (Unemployed/Part-Time/Full-Time). Which encoding method would you use for each variable, and why?\n",
    "\n",
    "Gender (Male/Female):\n",
    "\n",
    "Binary Encoding: We can use binary encoding, where we represent \"Male\" as 0 and \"Female\" as 1. This method is suitable when we have only two categories, as it efficiently captures the binary nature of the data.\n",
    "\n",
    "Education Level (High School/Bachelor's/Master's/PhD):\n",
    "\n",
    "Ordinal Encoding: Education level typically has an inherent order, with \"PhD\" being higher than \"Master's\" and so on. We can use ordinal encoding, assigning increasing integers to represent the increasing level of education. For example, \"High School\" could be 1, \"Bachelor's\" 2, \"Master's\" 3, and \"PhD\" 4. This preserves the ordinal relationship.\n",
    "\n",
    "Employment Status (Unemployed/Part-Time/Full-Time):\n",
    "\n",
    "One-Hot Encoding: Since there is no inherent order among employment statuses, one-hot encoding is a suitable choice. Each category (\"Unemployed,\" \"Part-Time,\" \"Full-Time\") will be converted into a binary column. If a person is unemployed, the \"Unemployed\" column will be 1, and the others will be 0. This method prevents the model from assuming any ordinal relationship."
   ]
  },
  {
   "cell_type": "raw",
   "id": "1cf2b01f",
   "metadata": {},
   "source": [
    "Q7. You are analyzing a dataset with two continuous variables, \"Temperature\" and \"Humidity\", and two categorical variables, \"Weather Condition\" (Sunny/Cloudy/Rainy) and \"Wind Direction\" (North/South/ East/West). Calculate the covariance between each pair of variables and interpret the results.\n",
    "\n",
    "Temperature and Humidity (Continuous - Continuous):\n",
    "\n",
    "To calculate the covariance between temperature and humidity, we need a dataset with paired observations of temperature and humidity.\n",
    "Cov(Temperature, Humidity) = Σ [(Temperature - Mean Temperature) * (Humidity - Mean Humidity)] / (n - 1)\n",
    "The result will be a numeric value that represents how temperature and humidity vary together. A positive covariance indicates that they tend to increase together, while a negative covariance suggests that one tends to increase when the other decreases.\n",
    "\n",
    "Weather Condition and Wind Direction (Categorical - Categorical):\n",
    "\n",
    "Covariance is primarily used for continuous variables, and it's not meaningful for categorical variables like \"Weather Condition\" and \"Wind Direction.\" This is because we can't calculate the joint variability between categories in the same way we do for numeric values.\n",
    "For categorical variables, we might want to look at other measures like contingency tables and chi-squared tests to understand their relationships.\n",
    "\n",
    "\n",
    "Interpretation:\n",
    "\n",
    "For Temperature and Humidity, the covariance value will tell whether they tend to vary together or in opposite directions. A positive covariance means that higher temperatures are associated with higher humidity, while a negative covariance suggests an inverse relationship.\n",
    "For Weather Condition and Wind Direction, covariance is not applicable because they are categorical variables. We would use different methods to analyze their relationships, such as cross-tabulation or chi-squared tests"
   ]
  },
  {
   "cell_type": "raw",
   "id": "5f45bceb",
   "metadata": {},
   "source": []
  },
  {
   "cell_type": "raw",
   "id": "d0c669cb",
   "metadata": {},
   "source": []
  }
 ],
 "metadata": {
  "kernelspec": {
   "display_name": "Python 3 (ipykernel)",
   "language": "python",
   "name": "python3"
  },
  "language_info": {
   "codemirror_mode": {
    "name": "ipython",
    "version": 3
   },
   "file_extension": ".py",
   "mimetype": "text/x-python",
   "name": "python",
   "nbconvert_exporter": "python",
   "pygments_lexer": "ipython3",
   "version": "3.9.13"
  },
  "toc": {
   "base_numbering": 1,
   "nav_menu": {},
   "number_sections": true,
   "sideBar": true,
   "skip_h1_title": false,
   "title_cell": "Table of Contents",
   "title_sidebar": "Contents",
   "toc_cell": false,
   "toc_position": {},
   "toc_section_display": true,
   "toc_window_display": false
  }
 },
 "nbformat": 4,
 "nbformat_minor": 5
}
