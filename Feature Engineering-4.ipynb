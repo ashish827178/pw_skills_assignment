{
 "cells": [
  {
   "cell_type": "raw",
   "id": "0d855ac2",
   "metadata": {},
   "source": [
    "Q1. What is data encoding? How is it useful in data science?\n",
    "\n",
    "Data encoding is the process of converting categorical data (text or labels) into a numerical format that can be used for machine learning algorithms. It's crucial in data science because most machine learning models work with numerical data, not text or categories. Encoding allows us to represent categorical information in a way that algorithms can understand and make predictions."
   ]
  },
  {
   "cell_type": "raw",
   "id": "f95e630b",
   "metadata": {},
   "source": [
    "Q2. What is nominal encoding? Provide an example of how you would use it in a real-world scenario.\n",
    "\n",
    "Nominal encoding assigns a unique number to each category or label without any specific order or ranking. For example, consider a dataset of car colors: Red, Blue, and Green. Nominal encoding might assign 1 to Red, 2 to Blue, and 3 to Green. This encoding is useful when categories don't have a meaningful order, like colors, where there's no inherent ranking."
   ]
  },
  {
   "cell_type": "raw",
   "id": "e3f46a8a",
   "metadata": {},
   "source": [
    "Q3. In what situations is nominal encoding preferred over one-hot encoding? Provide a practical example.\n",
    "\n",
    "Nominal encoding is preferred over one-hot encoding when categories have many levels, and creating one-hot encoded columns would lead to high dimensionality. For example, consider a dataset with a \"Country\" feature that contains the names of various countries. One-hot encoding this feature would create numerous binary columns (one for each country), leading to a sparse dataset. Instead, nominal encoding assigns a unique numerical code to each country, reducing dimensionality and keeping the dataset more manageable. This approach is efficient when the order or relationship between categories doesn't matter, as is often the case with country names.\n",
    "\n"
   ]
  },
  {
   "cell_type": "raw",
   "id": "82cd70ff",
   "metadata": {},
   "source": [
    "Q4. Suppose you have a dataset containing categorical data with 5 unique values. Which encoding technique would you use to transform this data into a format suitable for machine learning algorithms? Explain why you made this choice.\n",
    "\n",
    "If we have a dataset with 5 unique values in a categorical feature, we can use nominal encoding to transform this data into a format suitable for machine learning algorithms. Nominal encoding assigns a unique numerical code to each category without implying any ordinal relationship or ranking. This choice is appropriate when the categories have no meaningful order or hierarchy, and we want to represent them in a compact numerical format for machine learning models."
   ]
  },
  {
   "cell_type": "raw",
   "id": "80c75444",
   "metadata": {},
   "source": [
    "Q5. In a machine learning project, you have a dataset with 1000 rows and 5 columns. Two of the columns are categorical, and the remaining three columns are numerical. If you were to use nominal encoding to transform the categorical data, how many new columns would be created? Show your calculations.\n",
    "\n",
    "If we have to use nominal encoding for two categorical columns in a dataset with 1000 rows, each categorical column would be replaced by a single column with unique numerical codes. So, we would create two new columns for encoding the categorical data\n"
   ]
  },
  {
   "cell_type": "raw",
   "id": "e582dc87",
   "metadata": {},
   "source": [
    "Q6. You are working with a dataset containing information about different types of animals, including their species, habitat, and diet. Which encoding technique would you use to transform the categorical data into a format suitable for machine learning algorithms? Justify your answer.\n",
    "\n",
    "In the scenario where we are working with a dataset containing information about different types of animals with categorical attributes like species, habitat, and diet, the choice of encoding technique would depend on the nature of these categorical variables:\n",
    "\n",
    "Species: If the \"species\" category has a hierarchical or ordinal relationship (for example, one species is more closely related to another), you might consider using ordinal encoding. However, if there's no inherent order or hierarchy among species, nominal encoding would be more appropriate.\n",
    "\n",
    "Habitat and Diet: These categories are typically nominal in nature, as there's no inherent order or ranking between different habitats or diets. Therefore, nominal encoding, such as one-hot encoding, would be the suitable choice.\n",
    "\n",
    "So, to transform the categorical data into a format suitable for machine learning algorithms in this case, you would likely use a combination of nominal encoding (like one-hot encoding) for \"habitat\" and \"diet,\" and either nominal encoding or ordinal encoding based on the nature of the \"species\" category. The justification is to ensure that the encoding method aligns with the inherent characteristics of each categorical variable in the dataset."
   ]
  },
  {
   "cell_type": "raw",
   "id": "2e112da6",
   "metadata": {},
   "source": [
    "Q7.You are working on a project that involves predicting customer churn for a telecommunications company. You have a dataset with 5 features, including the customer's gender, age, contract type, monthly charges, and tenure. Which encoding technique(s) would you use to transform the categorical data into numerical data? Provide a step-by-step explanation of how you would implement the encoding.\n",
    "\n",
    "In a project involving predicting customer churn for a telecommunications company with a dataset containing features like gender, age, contract type, monthly charges, and tenure, we'll need to transform the categorical data (like gender and contract type) into numerical data for machine learning models. Here's how you might approach it:\n",
    "\n",
    "Gender: Gender is a binary categorical variable (usually \"Male\" or \"Female\"). You can perform binary encoding where \"Male\" is encoded as 0 and \"Female\" is encoded as 1.\n",
    "\n",
    "Contract Type: Contract type could have multiple categories, such as \"Month-to-Month,\" \"One Year,\" and \"Two Year.\" For this, you can use one-hot encoding. Each contract type becomes a new binary column, and we set a 1 for the contract type the customer has and 0 for the others.\n",
    "\n"
   ]
  },
  {
   "cell_type": "code",
   "execution_count": 1,
   "id": "e91d9cda",
   "metadata": {},
   "outputs": [
    {
     "name": "stdout",
     "output_type": "stream",
     "text": [
      "   gender_encoded  contract_type_Month-to-Month  contract_type_One Year  \\\n",
      "0               0                             1                       0   \n",
      "1               1                             0                       1   \n",
      "2               0                             0                       0   \n",
      "3               1                             1                       0   \n",
      "\n",
      "   contract_type_Two Year  \n",
      "0                       0  \n",
      "1                       0  \n",
      "2                       1  \n",
      "3                       0  \n"
     ]
    }
   ],
   "source": [
    "\"\"\"Here's a step-by-step explanation of implementing these encodings in Python\n",
    " using the popular library, Pandas: \"\"\"\n",
    "\n",
    "import pandas as pd\n",
    "\n",
    "# Sample data\n",
    "data = {\n",
    "    'gender': ['Male', 'Female', 'Male', 'Female'],\n",
    "    'contract_type': ['Month-to-Month', 'One Year', 'Two Year', 'Month-to-Month']\n",
    "}\n",
    "\n",
    "# Create a DataFrame\n",
    "df = pd.DataFrame(data)\n",
    "\n",
    "# Perform binary encoding for 'gender'\n",
    "df['gender_encoded'] = df['gender'].apply(lambda x: 0 if x == 'Male' else 1)\n",
    "\n",
    "# Perform one-hot encoding for 'contract_type'\n",
    "contract_type_encoded = pd.get_dummies(df['contract_type'], prefix='contract_type')\n",
    "df = pd.concat([df, contract_type_encoded], axis=1)\n",
    "\n",
    "# Drop the original categorical columns\n",
    "df.drop(['gender', 'contract_type'], axis=1, inplace=True)\n",
    "\n",
    "# Now, 'gender_encoded' and 'contract_type' columns contain the encoded data\n",
    "print(df)\n"
   ]
  },
  {
   "cell_type": "raw",
   "id": "1dcee514",
   "metadata": {},
   "source": []
  },
  {
   "cell_type": "raw",
   "id": "68383729",
   "metadata": {},
   "source": []
  },
  {
   "cell_type": "raw",
   "id": "f8508c9a",
   "metadata": {},
   "source": []
  },
  {
   "cell_type": "raw",
   "id": "3e3c3843",
   "metadata": {},
   "source": []
  },
  {
   "cell_type": "raw",
   "id": "524ff4dc",
   "metadata": {},
   "source": []
  },
  {
   "cell_type": "raw",
   "id": "1a46ec9a",
   "metadata": {},
   "source": []
  }
 ],
 "metadata": {
  "kernelspec": {
   "display_name": "Python 3 (ipykernel)",
   "language": "python",
   "name": "python3"
  },
  "language_info": {
   "codemirror_mode": {
    "name": "ipython",
    "version": 3
   },
   "file_extension": ".py",
   "mimetype": "text/x-python",
   "name": "python",
   "nbconvert_exporter": "python",
   "pygments_lexer": "ipython3",
   "version": "3.9.13"
  },
  "toc": {
   "base_numbering": 1,
   "nav_menu": {},
   "number_sections": true,
   "sideBar": true,
   "skip_h1_title": false,
   "title_cell": "Table of Contents",
   "title_sidebar": "Contents",
   "toc_cell": false,
   "toc_position": {},
   "toc_section_display": true,
   "toc_window_display": false
  }
 },
 "nbformat": 4,
 "nbformat_minor": 5
}
