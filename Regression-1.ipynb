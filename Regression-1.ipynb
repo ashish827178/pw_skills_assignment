{
 "cells": [
  {
   "cell_type": "raw",
   "id": "266fd65e",
   "metadata": {},
   "source": [
    "Q1. Explain the difference between simple linear regression and multiple linear regression. Provide an example of each.\n",
    "\n",
    "Answer:\n",
    "     Simple linear regression involves predicting a dependent variable (Y) based on a single independent variable (X). It models the relationship between X and Y as a straight line. For example, predicting a student's exam score (Y) based on the number of hours they studied (X).\n",
    "\n",
    "Multiple linear regression, on the other hand, involves predicting a dependent variable (Y) based on multiple independent variables (X1, X2, ..., Xn). It models the relationship between the independent variables and the dependent variable as a linear equation. For example, predicting a house price (Y) based on features like size (X1), number of bedrooms (X2), and location (X3)."
   ]
  },
  {
   "cell_type": "raw",
   "id": "95659d9c",
   "metadata": {},
   "source": [
    "Q2. Discuss the assumptions of linear regression. How can you check whether these assumptions hold in a given dataset?\n",
    "\n",
    "Answer:\n",
    "The assumptions of linear regression include:\n",
    "\n",
    "Linearity: The relationship between the independent and dependent variables is linear.\n",
    "Independence: The residuals (errors) are independent of each other.\n",
    "Homoscedasticity: The residuals have constant variance.\n",
    "Normality: The residuals are normally distributed.\n",
    "No multicollinearity: The independent variables are not highly correlated."
   ]
  },
  {
   "cell_type": "raw",
   "id": "1697a49b",
   "metadata": {},
   "source": [
    "Q3. How do you interpret the slope and intercept in a linear regression model? Provide an example using a real-world scenario.\n",
    "\n",
    "Answer:\n",
    "In a linear regression model, the slope represents the change in the dependent variable (Y) for a one-unit change in the independent variable (X), holding all other variables constant. The intercept represents the value of the dependent variable when all independent variables are zero. For example, in a salary prediction model, the slope may represent the increase in salary for each additional year of experience, and the intercept may represent the starting salary for someone with zero years of experience."
   ]
  },
  {
   "cell_type": "raw",
   "id": "214ee22c",
   "metadata": {},
   "source": [
    "Q4. Explain the concept of gradient descent. How is it used in machine learning?\n",
    "\n",
    "Answer:\n",
    "Gradient descent is an optimization algorithm used to minimize the cost function in machine learning models. It works by iteratively moving towards the minimum of the cost function by taking steps proportional to the negative of the gradient of the function at the current point. Gradient descent is used in training machine learning models, including linear regression, to find the optimal parameters (slope and intercept) that minimize the error between the predicted and actual values."
   ]
  },
  {
   "cell_type": "raw",
   "id": "8b41f077",
   "metadata": {},
   "source": [
    "Q5. Describe the multiple linear regression model. How does it differ from simple linear regression?\n",
    "\n",
    "Answer:\n",
    "Multiple linear regression is an extension of simple linear regression that allows for more than one independent variable. It models the relationship between the dependent variable and multiple independent variables as a linear equation. The main difference from simple linear regression is that multiple linear regression considers the combined effect of all independent variables on the dependent variable."
   ]
  },
  {
   "cell_type": "raw",
   "id": "b74873ff",
   "metadata": {},
   "source": [
    "Q6. Explain the concept of multicollinearity in multiple linear regression. How can you detect and address this issue?\n",
    "\n",
    "Answer:\n",
    "Multicollinearity in multiple linear regression occurs when two or more independent variables are highly correlated, making it difficult to separate their individual effects on the dependent variable. This can lead to unreliable estimates of the coefficients and reduced predictive power of the model. Multicollinearity can be detected using correlation matrices or variance inflation factors (VIFs). To address multicollinearity, you can remove one of the correlated variables, use principal component analysis (PCA) to reduce the dimensionality, or combine the correlated variables into a single composite variable."
   ]
  },
  {
   "cell_type": "raw",
   "id": "d858e250",
   "metadata": {},
   "source": [
    "Q7. Describe the polynomial regression model. How is it different from linear regression?\n",
    "\n",
    "Answer:\n",
    "Polynomial regression is a form of regression analysis in which the relationship between the independent variable and the dependent variable is modeled as an nth-degree polynomial. Unlike linear regression, which models a linear relationship, polynomial regression can capture non-linear relationships between variables. Polynomial regression is used when the relationship between the variables is not linear and requires a higher-degree polynomial to fit the data accurately."
   ]
  },
  {
   "cell_type": "raw",
   "id": "7c6d8e1c",
   "metadata": {},
   "source": [
    "Q8. What are the advantages and disadvantages of polynomial regression compared to linear regression? In what situations would you prefer to use polynomial regression?\n",
    "\n",
    "Answer:\n",
    "Advantages of polynomial regression compared to linear regression include its ability to model non-linear relationships and its flexibility in fitting complex datasets. However, polynomial regression can lead to overfitting, especially with high-degree polynomials, which can result in poor generalization to new data. Polynomial regression is preferred when the relationship between the variables is clearly non-linear and when a higher degree of accuracy is required in modeling the data.\n"
   ]
  },
  {
   "cell_type": "code",
   "execution_count": null,
   "id": "ebdf3945",
   "metadata": {},
   "outputs": [],
   "source": []
  },
  {
   "cell_type": "code",
   "execution_count": null,
   "id": "774a93a6",
   "metadata": {},
   "outputs": [],
   "source": []
  },
  {
   "cell_type": "code",
   "execution_count": null,
   "id": "0cc6894e",
   "metadata": {},
   "outputs": [],
   "source": []
  },
  {
   "cell_type": "code",
   "execution_count": null,
   "id": "8ac5a1fc",
   "metadata": {},
   "outputs": [],
   "source": []
  }
 ],
 "metadata": {
  "kernelspec": {
   "display_name": "Python 3 (ipykernel)",
   "language": "python",
   "name": "python3"
  },
  "language_info": {
   "codemirror_mode": {
    "name": "ipython",
    "version": 3
   },
   "file_extension": ".py",
   "mimetype": "text/x-python",
   "name": "python",
   "nbconvert_exporter": "python",
   "pygments_lexer": "ipython3",
   "version": "3.9.13"
  },
  "toc": {
   "base_numbering": 1,
   "nav_menu": {},
   "number_sections": true,
   "sideBar": true,
   "skip_h1_title": false,
   "title_cell": "Table of Contents",
   "title_sidebar": "Contents",
   "toc_cell": false,
   "toc_position": {},
   "toc_section_display": true,
   "toc_window_display": false
  }
 },
 "nbformat": 4,
 "nbformat_minor": 5
}
