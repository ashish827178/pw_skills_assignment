{
 "cells": [
  {
   "cell_type": "markdown",
   "id": "fa6d0faa",
   "metadata": {},
   "source": [
    "Q1. What is a database? Differentiate between SQL and NoSQL databases.\n",
    "\n",
    "A database is a structured collection of data organized and stored in a way that allows efficient retrieval and management of data. Databases are widely used in various applications to store and manage large volumes of information.\n",
    "\n",
    "SQL (Structured Query Language) and NoSQL (Not Only SQL) are two different types of database management systems with distinct characteristics:\n",
    "\n",
    "SQL Databases:\n",
    "SQL databases are relational databases, where data is organized into tables with rows and columns.\n",
    "They use the Structured Query Language (SQL) for defining, manipulating, and querying data.\n",
    "SQL databases enforce a predefined schema, which means the structure of the data must be defined before inserting data.\n",
    "They provide ACID (Atomicity, Consistency, Isolation, Durability) properties, ensuring data integrity and transaction management.\n",
    "Examples of SQL databases include MySQL, PostgreSQL, Oracle, SQL Server, etc.\n",
    "\n",
    "NoSQL Databases:\n",
    "NoSQL databases are non-relational databases that provide flexible schema design, allowing data to be stored in various formats like key-value pairs, documents, graphs, or column-family.\n",
    "They do not use SQL for querying; instead, they offer APIs or query languages specific to their data model.\n",
    "NoSQL databases are horizontally scalable, making them suitable for handling large volumes of data and distributed environments.\n",
    "They provide BASE (Basically Available, Soft state, Eventually consistent) properties, prioritizing availability and scalability over strict consistency.\n",
    "Examples of NoSQL databases include MongoDB (document store), Redis (key-value store), Cassandra (column-family store), Neo4j (graph store), etc.\n"
   ]
  },
  {
   "cell_type": "markdown",
   "id": "15adc562",
   "metadata": {},
   "source": [
    "Q2. What is DDL? Explain why CREATE, DROP, ALTER, and TRUNCATE are used with an example.\n",
    "\n",
    "DDL stands for Data Definition Language. It is a subset of SQL (Structured Query Language) used to define and manage the structure of the database, such as creating, modifying, and deleting database objects. DDL statements are used to manage the schema and overall structure of the database.\n",
    "\n",
    "CREATE:\n",
    "The CREATE statement is used to create new database objects, such as tables, indexes, views, or schemas.\n",
    "Example: Creating a new table called \"employees\" with columns \"id,\" \"name,\" and \"salary.\"\n",
    "\n",
    "DROP:\n",
    "The DROP statement is used to remove existing database objects, such as tables, indexes, or views.\n",
    "Example: Dropping the previously created \"employees\" table.\n",
    "\n",
    "ALTER:\n",
    "The ALTER statement is used to modify the structure of existing database objects, such as adding or removing columns from a table.\n",
    "Example: Adding a new column \"department\" to the \"employees\" table.\n",
    "\n",
    "TRUNCATE:\n",
    "The TRUNCATE statement is used to remove all rows from a table but keeps the table structure intact.\n",
    "Unlike the DROP statement, TRUNCATE allows you to keep the table for further use but removes all the data.\n",
    "Example: Truncating the \"employees\" table."
   ]
  },
  {
   "cell_type": "markdown",
   "id": "30d10647",
   "metadata": {},
   "source": [
    "Q3. What is DML? Explain INSERT, UPDATE, and DELETE with an example.\n",
    "\n",
    "DML stands for Data Manipulation Language. It is a subset of SQL (Structured Query Language) used to interact with the data stored in the database. DML statements allow you to insert, update, and delete data from the database tables.\n",
    "\n",
    "INSERT:\n",
    "The INSERT statement is used to add new records (rows) into a database table.\n",
    "Example: Inserting a new employee record into the \"employees\" table.\n",
    "    \n",
    "UPDATE:\n",
    "The UPDATE statement is used to modify existing records (rows) in a database table.\n",
    "Example: Updating the salary of an employee with id 1 in the \"employees\" table.\n",
    "    \n",
    "UPDATE:\n",
    "The UPDATE statement is used to modify existing records (rows) in a database table.\n",
    "Example: Updating the salary of an employee with id 1 in the \"employees\" table."
   ]
  },
  {
   "cell_type": "markdown",
   "id": "d27e1d97",
   "metadata": {},
   "source": [
    "Q4. What is DQL? Explain SELECT with an example.\n",
    "\n",
    "DQL stands for Data Query Language. It is a subset of SQL (Structured Query Language) used to retrieve data from a database. DQL statements allow you to query and fetch specific data from one or more database tables.\n",
    "\n",
    "The SELECT statement allows us to access and retrieve specific data from the database, providing great flexibility in working with the data stored in the tables."
   ]
  },
  {
   "cell_type": "markdown",
   "id": "96ae2844",
   "metadata": {},
   "source": [
    "Q5. Explain Primary Key and Foreign Key.\n",
    "\n",
    "Primary Key:\n",
    "A Primary Key is a unique identifier for each row (record) in a table.\n",
    "It uniquely identifies a record and ensures that there are no duplicate values for the key within the table.\n",
    "Every table in a relational database should have a Primary Key because it helps in efficient data retrieval and indexing.\n",
    "A Primary Key can be a single column or a combination of columns (composite key) that collectively form a unique identifier.\n",
    "Examples: 'id' in an \"employees\" table, 'roll_number' in a \"students\" table\n",
    "\n",
    "Foreign Key:\n",
    "A Foreign Key is a column or a set of columns in a table that refers to the Primary Key of another table.\n",
    "It establishes a link between two tables and helps maintain referential integrity in the database.\n",
    "A Foreign Key enforces the relationship between tables, ensuring that values in the referencing column(s) must exist in the referenced table's Primary Key column.\n",
    "It is used to create relationships and associations between related data in different tables.\n",
    "Examples: 'department_id' in an \"employees\" table referring to the Primary Key 'id' in a \"departments\" table"
   ]
  },
  {
   "cell_type": "raw",
   "id": "51f9ffb6",
   "metadata": {},
   "source": [
    " Q6. Write a python code to connect MySQL to python. Explain the cursor() and execute() method.\n",
    "\n",
    "import mysql.connector\n",
    "\n",
    " Connect to the database\n",
    "connection = mysql.connector.connect(\n",
    "    host=\"localhost\",\n",
    "    user=\"your_username\",\n",
    "    password=\"your_password\",\n",
    "    database=\"your_database\"\n",
    ")\n",
    "\n",
    " Create a cursor object\n",
    "cursor = connection.cursor()\n",
    "\n",
    " Execute a SQL query\n",
    "cursor.execute(\"SELECT * FROM your_table\")\n",
    "\n",
    " Fetch all rows from the result set\n",
    "results = cursor.fetchall()\n",
    "\n",
    " Print the results\n",
    "for row in results:\n",
    "    print(row)\n",
    "\n",
    "Close the cursor and the connection\n",
    "cursor.close()\n",
    "connection.close()\n",
    "\n",
    "\n",
    "\n",
    "cursor() method:\n",
    "The cursor() method creates a cursor object that allows us to interact with the database.\n",
    "The cursor is a control structure used to traverse and fetch the records in the result set returned by a query.\n",
    "We use the cursor to execute SQL statements and fetch data from the result set.\n",
    "In the example above, we created a cursor object using 'cursor = connection.cursor()'.\n",
    "\n",
    "execute() method:\n",
    "The execute() method is used to execute SQL queries or statements on the database using the cursor object.\n",
    "It takes the SQL query as an argument and sends it to the database for execution.\n",
    "After executing the query, the result set (if any) is available for processing.\n",
    "In the example above, we executed the SQL query \"SELECT * FROM your_table\" using cursor.execute()."
   ]
  },
  {
   "cell_type": "markdown",
   "id": "aac4d6b5",
   "metadata": {},
   "source": [
    "Q7. Give the order of execution of SQL clauses in an SQL query.\n",
    "\n",
    "The order of execution of SQL clauses in an SQL query is as follows:\n",
    "\n",
    "SELECT: The SELECT clause is the first to be executed. It specifies the columns you want to retrieve from the database.\n",
    "\n",
    "FROM: The FROM clause is executed next. It specifies the table(s) from which the data will be retrieved.\n",
    "\n",
    "WHERE: The WHERE clause is executed after the FROM clause. It filters the data based on specified conditions.\n",
    "\n",
    "GROUP BY: The GROUP BY clause is executed next. It groups the data based on specified columns.\n",
    "\n",
    "HAVING: The HAVING clause is executed after the GROUP BY clause. It filters the grouped data based on specified conditions.\n",
    "\n",
    "ORDER BY: The ORDER BY clause is executed next. It sorts the result set based on specified columns and sort orders (ascending or descending).\n",
    "\n",
    "LIMIT / OFFSET: The LIMIT and OFFSET clauses are executed last. They are used to limit the number of rows returned and provide pagination functionality."
   ]
  },
  {
   "cell_type": "code",
   "execution_count": null,
   "id": "215d544c",
   "metadata": {},
   "outputs": [],
   "source": []
  }
 ],
 "metadata": {
  "kernelspec": {
   "display_name": "Python 3 (ipykernel)",
   "language": "python",
   "name": "python3"
  },
  "language_info": {
   "codemirror_mode": {
    "name": "ipython",
    "version": 3
   },
   "file_extension": ".py",
   "mimetype": "text/x-python",
   "name": "python",
   "nbconvert_exporter": "python",
   "pygments_lexer": "ipython3",
   "version": "3.9.13"
  },
  "toc": {
   "base_numbering": 1,
   "nav_menu": {},
   "number_sections": true,
   "sideBar": true,
   "skip_h1_title": false,
   "title_cell": "Table of Contents",
   "title_sidebar": "Contents",
   "toc_cell": false,
   "toc_position": {},
   "toc_section_display": true,
   "toc_window_display": false
  }
 },
 "nbformat": 4,
 "nbformat_minor": 5
}
